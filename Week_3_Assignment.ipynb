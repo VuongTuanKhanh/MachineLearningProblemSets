{
  "nbformat": 4,
  "nbformat_minor": 0,
  "metadata": {
    "colab": {
      "name": "Copy of Assignment_3_EDA.ipynb",
      "provenance": []
    },
    "language_info": {
      "codemirror_mode": {
        "name": "ipython",
        "version": 3
      },
      "file_extension": ".py",
      "mimetype": "text/x-python",
      "name": "python",
      "nbconvert_exporter": "python",
      "pygments_lexer": "ipython3",
      "version": "3.6.5"
    },
    "kernelspec": {
      "display_name": "Python 3",
      "language": "python",
      "name": "python3"
    }
  },
  "cells": [
    {
      "cell_type": "markdown",
      "metadata": {
        "id": "x7fdTGs4SnyS",
        "colab_type": "text"
      },
      "source": [
        "![](https://i.imgur.com/0AUxkXt.png)"
      ]
    },
    {
      "cell_type": "markdown",
      "metadata": {
        "id": "_uqy69P0Pm0L",
        "colab_type": "text"
      },
      "source": [
        "# Assignment 3 - From data to insights\n",
        "## Vương Tuấn Khanh\n",
        "## 17110313\n"
      ]
    },
    {
      "cell_type": "markdown",
      "metadata": {
        "id": "ZBc0glanPm0M",
        "colab_type": "text"
      },
      "source": [
        "## Dataset - Online Retailes Purchase\n",
        "\n",
        "\n",
        "### Step 1 - Checking the data\n",
        "\n",
        "**Import tools set**"
      ]
    },
    {
      "cell_type": "code",
      "metadata": {
        "id": "9Cx3LXxfPm0N",
        "colab_type": "code",
        "colab": {}
      },
      "source": [
        "import pandas as pd\n",
        "import matplotlib.pyplot as plt\n",
        "import seaborn as sns"
      ],
      "execution_count": 0,
      "outputs": []
    },
    {
      "cell_type": "markdown",
      "metadata": {
        "id": "mFTQu0j6Pm0Q",
        "colab_type": "text"
      },
      "source": [
        "**Import data**"
      ]
    },
    {
      "cell_type": "code",
      "metadata": {
        "id": "w0YVchrVPm0R",
        "colab_type": "code",
        "colab": {}
      },
      "source": [
        "# link = \"https://ml101-khanhnguyen.s3-ap-southeast-1.amazonaws.com/devc/Online_Retail.csv\"\n",
        "# Đọc file CSV và gán giá trị vào DataFrame Online_Retail, định dạng tham số kiểu encoding = 'latin1'\n",
        "Online_Retail = pd.read_csv('https://ml101-khanhnguyen.s3-ap-southeast-1.amazonaws.com/devc/Online_Retail.csv', encoding = 'latin1')"
      ],
      "execution_count": 0,
      "outputs": []
    },
    {
      "cell_type": "code",
      "metadata": {
        "id": "V3v8D3pTFrYh",
        "colab_type": "code",
        "outputId": "f3fecea6-fafb-4a18-ee02-141e7588e868",
        "colab": {
          "base_uri": "https://localhost:8080/",
          "height": 204
        }
      },
      "source": [
        "# In ra 5 dòng đầu tiên của DataFrame\n",
        "Online_Retail.head(5)"
      ],
      "execution_count": 3,
      "outputs": [
        {
          "output_type": "execute_result",
          "data": {
            "text/html": [
              "<div>\n",
              "<style scoped>\n",
              "    .dataframe tbody tr th:only-of-type {\n",
              "        vertical-align: middle;\n",
              "    }\n",
              "\n",
              "    .dataframe tbody tr th {\n",
              "        vertical-align: top;\n",
              "    }\n",
              "\n",
              "    .dataframe thead th {\n",
              "        text-align: right;\n",
              "    }\n",
              "</style>\n",
              "<table border=\"1\" class=\"dataframe\">\n",
              "  <thead>\n",
              "    <tr style=\"text-align: right;\">\n",
              "      <th></th>\n",
              "      <th>InvoiceNo</th>\n",
              "      <th>StockCode</th>\n",
              "      <th>Description</th>\n",
              "      <th>Quantity</th>\n",
              "      <th>InvoiceDate</th>\n",
              "      <th>UnitPrice</th>\n",
              "      <th>CustomerID</th>\n",
              "      <th>Country</th>\n",
              "    </tr>\n",
              "  </thead>\n",
              "  <tbody>\n",
              "    <tr>\n",
              "      <th>0</th>\n",
              "      <td>536365</td>\n",
              "      <td>85123A</td>\n",
              "      <td>WHITE HANGING HEART T-LIGHT HOLDER</td>\n",
              "      <td>6</td>\n",
              "      <td>12/1/10 8:26</td>\n",
              "      <td>2.55</td>\n",
              "      <td>17850.0</td>\n",
              "      <td>United Kingdom</td>\n",
              "    </tr>\n",
              "    <tr>\n",
              "      <th>1</th>\n",
              "      <td>536365</td>\n",
              "      <td>71053</td>\n",
              "      <td>WHITE METAL LANTERN</td>\n",
              "      <td>6</td>\n",
              "      <td>12/1/10 8:26</td>\n",
              "      <td>3.39</td>\n",
              "      <td>17850.0</td>\n",
              "      <td>United Kingdom</td>\n",
              "    </tr>\n",
              "    <tr>\n",
              "      <th>2</th>\n",
              "      <td>536365</td>\n",
              "      <td>84406B</td>\n",
              "      <td>CREAM CUPID HEARTS COAT HANGER</td>\n",
              "      <td>8</td>\n",
              "      <td>12/1/10 8:26</td>\n",
              "      <td>2.75</td>\n",
              "      <td>17850.0</td>\n",
              "      <td>United Kingdom</td>\n",
              "    </tr>\n",
              "    <tr>\n",
              "      <th>3</th>\n",
              "      <td>536365</td>\n",
              "      <td>84029G</td>\n",
              "      <td>KNITTED UNION FLAG HOT WATER BOTTLE</td>\n",
              "      <td>6</td>\n",
              "      <td>12/1/10 8:26</td>\n",
              "      <td>3.39</td>\n",
              "      <td>17850.0</td>\n",
              "      <td>United Kingdom</td>\n",
              "    </tr>\n",
              "    <tr>\n",
              "      <th>4</th>\n",
              "      <td>536365</td>\n",
              "      <td>84029E</td>\n",
              "      <td>RED WOOLLY HOTTIE WHITE HEART.</td>\n",
              "      <td>6</td>\n",
              "      <td>12/1/10 8:26</td>\n",
              "      <td>3.39</td>\n",
              "      <td>17850.0</td>\n",
              "      <td>United Kingdom</td>\n",
              "    </tr>\n",
              "  </tbody>\n",
              "</table>\n",
              "</div>"
            ],
            "text/plain": [
              "  InvoiceNo StockCode  ... CustomerID         Country\n",
              "0    536365    85123A  ...    17850.0  United Kingdom\n",
              "1    536365     71053  ...    17850.0  United Kingdom\n",
              "2    536365    84406B  ...    17850.0  United Kingdom\n",
              "3    536365    84029G  ...    17850.0  United Kingdom\n",
              "4    536365    84029E  ...    17850.0  United Kingdom\n",
              "\n",
              "[5 rows x 8 columns]"
            ]
          },
          "metadata": {
            "tags": []
          },
          "execution_count": 3
        }
      ]
    },
    {
      "cell_type": "code",
      "metadata": {
        "id": "u4Msf54uFy4w",
        "colab_type": "code",
        "outputId": "880ec6f3-0570-4216-b081-b510cef83345",
        "colab": {
          "base_uri": "https://localhost:8080/",
          "height": 238
        }
      },
      "source": [
        "# In thông tin của Dataframe\n",
        "Online_Retail.info()"
      ],
      "execution_count": 4,
      "outputs": [
        {
          "output_type": "stream",
          "text": [
            "<class 'pandas.core.frame.DataFrame'>\n",
            "RangeIndex: 541909 entries, 0 to 541908\n",
            "Data columns (total 8 columns):\n",
            "InvoiceNo      541909 non-null object\n",
            "StockCode      541909 non-null object\n",
            "Description    540455 non-null object\n",
            "Quantity       541909 non-null int64\n",
            "InvoiceDate    541909 non-null object\n",
            "UnitPrice      541909 non-null float64\n",
            "CustomerID     406829 non-null float64\n",
            "Country        541909 non-null object\n",
            "dtypes: float64(2), int64(1), object(5)\n",
            "memory usage: 33.1+ MB\n"
          ],
          "name": "stdout"
        }
      ]
    },
    {
      "cell_type": "markdown",
      "metadata": {
        "id": "wY6yv3UsPm0k",
        "colab_type": "text"
      },
      "source": [
        "### Step 2 - Cleaning the data\n"
      ]
    },
    {
      "cell_type": "markdown",
      "metadata": {
        "id": "rcNsGWarPm06",
        "colab_type": "text"
      },
      "source": [
        "**Check for NaN values**"
      ]
    },
    {
      "cell_type": "code",
      "metadata": {
        "id": "TqLxHGy2Pm06",
        "colab_type": "code",
        "outputId": "7454bb41-e90a-4dd7-ab27-77248b3881d8",
        "colab": {
          "base_uri": "https://localhost:8080/",
          "height": 170
        }
      },
      "source": [
        "# Kiểm tra các thuộc tính rỗng\n",
        "# sum() là phương thức cho phép tổng hợp giá trị bị thiếu thành một list cho từng column\n",
        "pd.isna(Online_Retail).sum()"
      ],
      "execution_count": 5,
      "outputs": [
        {
          "output_type": "execute_result",
          "data": {
            "text/plain": [
              "InvoiceNo           0\n",
              "StockCode           0\n",
              "Description      1454\n",
              "Quantity            0\n",
              "InvoiceDate         0\n",
              "UnitPrice           0\n",
              "CustomerID     135080\n",
              "Country             0\n",
              "dtype: int64"
            ]
          },
          "metadata": {
            "tags": []
          },
          "execution_count": 5
        }
      ]
    },
    {
      "cell_type": "markdown",
      "metadata": {
        "id": "RdhPk_x1Pm0-",
        "colab_type": "text"
      },
      "source": [
        "**Examine few examples of NaN values**"
      ]
    },
    {
      "cell_type": "code",
      "metadata": {
        "id": "3kGYpbdOPm0-",
        "colab_type": "code",
        "outputId": "b8a84de0-063a-4aee-cda6-c77e1347ff21",
        "colab": {
          "base_uri": "https://localhost:8080/",
          "height": 204
        }
      },
      "source": [
        "# Liệt kê một vài giá trị rỗng\n",
        "# Phương thức isna() trả về giá trị NaN\n",
        "# DataFrame.sample(n) trả về n sample ngẫu nhiên\n",
        "Online_Retail[Online_Retail['CustomerID'].isna()].sample(5)"
      ],
      "execution_count": 6,
      "outputs": [
        {
          "output_type": "execute_result",
          "data": {
            "text/html": [
              "<div>\n",
              "<style scoped>\n",
              "    .dataframe tbody tr th:only-of-type {\n",
              "        vertical-align: middle;\n",
              "    }\n",
              "\n",
              "    .dataframe tbody tr th {\n",
              "        vertical-align: top;\n",
              "    }\n",
              "\n",
              "    .dataframe thead th {\n",
              "        text-align: right;\n",
              "    }\n",
              "</style>\n",
              "<table border=\"1\" class=\"dataframe\">\n",
              "  <thead>\n",
              "    <tr style=\"text-align: right;\">\n",
              "      <th></th>\n",
              "      <th>InvoiceNo</th>\n",
              "      <th>StockCode</th>\n",
              "      <th>Description</th>\n",
              "      <th>Quantity</th>\n",
              "      <th>InvoiceDate</th>\n",
              "      <th>UnitPrice</th>\n",
              "      <th>CustomerID</th>\n",
              "      <th>Country</th>\n",
              "    </tr>\n",
              "  </thead>\n",
              "  <tbody>\n",
              "    <tr>\n",
              "      <th>329357</th>\n",
              "      <td>565841</td>\n",
              "      <td>85131D</td>\n",
              "      <td>BEADED CRYSTAL HEART PINK ON STICK</td>\n",
              "      <td>2</td>\n",
              "      <td>9/7/11 12:04</td>\n",
              "      <td>0.83</td>\n",
              "      <td>NaN</td>\n",
              "      <td>United Kingdom</td>\n",
              "    </tr>\n",
              "    <tr>\n",
              "      <th>537080</th>\n",
              "      <td>581238</td>\n",
              "      <td>21485</td>\n",
              "      <td>RETROSPOT HEART HOT WATER BOTTLE</td>\n",
              "      <td>1</td>\n",
              "      <td>12/8/11 10:53</td>\n",
              "      <td>7.46</td>\n",
              "      <td>NaN</td>\n",
              "      <td>United Kingdom</td>\n",
              "    </tr>\n",
              "    <tr>\n",
              "      <th>94909</th>\n",
              "      <td>544434</td>\n",
              "      <td>22138</td>\n",
              "      <td>BAKING SET 9 PIECE RETROSPOT</td>\n",
              "      <td>1</td>\n",
              "      <td>2/18/11 16:12</td>\n",
              "      <td>10.79</td>\n",
              "      <td>NaN</td>\n",
              "      <td>United Kingdom</td>\n",
              "    </tr>\n",
              "    <tr>\n",
              "      <th>47732</th>\n",
              "      <td>540418</td>\n",
              "      <td>20717</td>\n",
              "      <td>STRAWBERRY SHOPPER BAG</td>\n",
              "      <td>18</td>\n",
              "      <td>1/7/11 11:04</td>\n",
              "      <td>0.85</td>\n",
              "      <td>NaN</td>\n",
              "      <td>United Kingdom</td>\n",
              "    </tr>\n",
              "    <tr>\n",
              "      <th>81743</th>\n",
              "      <td>543172</td>\n",
              "      <td>22456</td>\n",
              "      <td>NATURAL SLATE CHALKBOARD LARGE</td>\n",
              "      <td>2</td>\n",
              "      <td>2/4/11 9:11</td>\n",
              "      <td>9.96</td>\n",
              "      <td>NaN</td>\n",
              "      <td>United Kingdom</td>\n",
              "    </tr>\n",
              "  </tbody>\n",
              "</table>\n",
              "</div>"
            ],
            "text/plain": [
              "       InvoiceNo StockCode  ... CustomerID         Country\n",
              "329357    565841    85131D  ...        NaN  United Kingdom\n",
              "537080    581238     21485  ...        NaN  United Kingdom\n",
              "94909     544434     22138  ...        NaN  United Kingdom\n",
              "47732     540418     20717  ...        NaN  United Kingdom\n",
              "81743     543172     22456  ...        NaN  United Kingdom\n",
              "\n",
              "[5 rows x 8 columns]"
            ]
          },
          "metadata": {
            "tags": []
          },
          "execution_count": 6
        }
      ]
    },
    {
      "cell_type": "markdown",
      "metadata": {
        "id": "OpAhltPeHaLR",
        "colab_type": "text"
      },
      "source": [
        "**Exclude negative Quatity entries**"
      ]
    },
    {
      "cell_type": "code",
      "metadata": {
        "id": "71F-5PY-HZ6T",
        "colab_type": "code",
        "outputId": "98572a29-3713-45c3-c515-82255ace2348",
        "colab": {
          "base_uri": "https://localhost:8080/",
          "height": 204
        }
      },
      "source": [
        "# Kiểm tra các giá trị Quantity âm có tồn tại không trước khi Exclude\n",
        "Online_Retail[Online_Retail['Quantity'] < 0].head(5)"
      ],
      "execution_count": 7,
      "outputs": [
        {
          "output_type": "execute_result",
          "data": {
            "text/html": [
              "<div>\n",
              "<style scoped>\n",
              "    .dataframe tbody tr th:only-of-type {\n",
              "        vertical-align: middle;\n",
              "    }\n",
              "\n",
              "    .dataframe tbody tr th {\n",
              "        vertical-align: top;\n",
              "    }\n",
              "\n",
              "    .dataframe thead th {\n",
              "        text-align: right;\n",
              "    }\n",
              "</style>\n",
              "<table border=\"1\" class=\"dataframe\">\n",
              "  <thead>\n",
              "    <tr style=\"text-align: right;\">\n",
              "      <th></th>\n",
              "      <th>InvoiceNo</th>\n",
              "      <th>StockCode</th>\n",
              "      <th>Description</th>\n",
              "      <th>Quantity</th>\n",
              "      <th>InvoiceDate</th>\n",
              "      <th>UnitPrice</th>\n",
              "      <th>CustomerID</th>\n",
              "      <th>Country</th>\n",
              "    </tr>\n",
              "  </thead>\n",
              "  <tbody>\n",
              "    <tr>\n",
              "      <th>141</th>\n",
              "      <td>C536379</td>\n",
              "      <td>D</td>\n",
              "      <td>Discount</td>\n",
              "      <td>-1</td>\n",
              "      <td>12/1/10 9:41</td>\n",
              "      <td>27.50</td>\n",
              "      <td>14527.0</td>\n",
              "      <td>United Kingdom</td>\n",
              "    </tr>\n",
              "    <tr>\n",
              "      <th>154</th>\n",
              "      <td>C536383</td>\n",
              "      <td>35004C</td>\n",
              "      <td>SET OF 3 COLOURED  FLYING DUCKS</td>\n",
              "      <td>-1</td>\n",
              "      <td>12/1/10 9:49</td>\n",
              "      <td>4.65</td>\n",
              "      <td>15311.0</td>\n",
              "      <td>United Kingdom</td>\n",
              "    </tr>\n",
              "    <tr>\n",
              "      <th>235</th>\n",
              "      <td>C536391</td>\n",
              "      <td>22556</td>\n",
              "      <td>PLASTERS IN TIN CIRCUS PARADE</td>\n",
              "      <td>-12</td>\n",
              "      <td>12/1/10 10:24</td>\n",
              "      <td>1.65</td>\n",
              "      <td>17548.0</td>\n",
              "      <td>United Kingdom</td>\n",
              "    </tr>\n",
              "    <tr>\n",
              "      <th>236</th>\n",
              "      <td>C536391</td>\n",
              "      <td>21984</td>\n",
              "      <td>PACK OF 12 PINK PAISLEY TISSUES</td>\n",
              "      <td>-24</td>\n",
              "      <td>12/1/10 10:24</td>\n",
              "      <td>0.29</td>\n",
              "      <td>17548.0</td>\n",
              "      <td>United Kingdom</td>\n",
              "    </tr>\n",
              "    <tr>\n",
              "      <th>237</th>\n",
              "      <td>C536391</td>\n",
              "      <td>21983</td>\n",
              "      <td>PACK OF 12 BLUE PAISLEY TISSUES</td>\n",
              "      <td>-24</td>\n",
              "      <td>12/1/10 10:24</td>\n",
              "      <td>0.29</td>\n",
              "      <td>17548.0</td>\n",
              "      <td>United Kingdom</td>\n",
              "    </tr>\n",
              "  </tbody>\n",
              "</table>\n",
              "</div>"
            ],
            "text/plain": [
              "    InvoiceNo StockCode  ... CustomerID         Country\n",
              "141   C536379         D  ...    14527.0  United Kingdom\n",
              "154   C536383    35004C  ...    15311.0  United Kingdom\n",
              "235   C536391     22556  ...    17548.0  United Kingdom\n",
              "236   C536391     21984  ...    17548.0  United Kingdom\n",
              "237   C536391     21983  ...    17548.0  United Kingdom\n",
              "\n",
              "[5 rows x 8 columns]"
            ]
          },
          "metadata": {
            "tags": []
          },
          "execution_count": 7
        }
      ]
    },
    {
      "cell_type": "code",
      "metadata": {
        "id": "odUWd7I9S6Wa",
        "colab_type": "code",
        "outputId": "71373e56-6d31-475d-88fe-d27007c6e5b3",
        "colab": {
          "base_uri": "https://localhost:8080/",
          "height": 49
        }
      },
      "source": [
        "# Xóa các hàng có giá trị âm\n",
        "Online_Retail = Online_Retail[Online_Retail['Quantity'] >= 0]\n",
        "# Kiểm tra lại\n",
        "Online_Retail[Online_Retail['Quantity'] < 0].head(5)"
      ],
      "execution_count": 8,
      "outputs": [
        {
          "output_type": "execute_result",
          "data": {
            "text/html": [
              "<div>\n",
              "<style scoped>\n",
              "    .dataframe tbody tr th:only-of-type {\n",
              "        vertical-align: middle;\n",
              "    }\n",
              "\n",
              "    .dataframe tbody tr th {\n",
              "        vertical-align: top;\n",
              "    }\n",
              "\n",
              "    .dataframe thead th {\n",
              "        text-align: right;\n",
              "    }\n",
              "</style>\n",
              "<table border=\"1\" class=\"dataframe\">\n",
              "  <thead>\n",
              "    <tr style=\"text-align: right;\">\n",
              "      <th></th>\n",
              "      <th>InvoiceNo</th>\n",
              "      <th>StockCode</th>\n",
              "      <th>Description</th>\n",
              "      <th>Quantity</th>\n",
              "      <th>InvoiceDate</th>\n",
              "      <th>UnitPrice</th>\n",
              "      <th>CustomerID</th>\n",
              "      <th>Country</th>\n",
              "    </tr>\n",
              "  </thead>\n",
              "  <tbody>\n",
              "  </tbody>\n",
              "</table>\n",
              "</div>"
            ],
            "text/plain": [
              "Empty DataFrame\n",
              "Columns: [InvoiceNo, StockCode, Description, Quantity, InvoiceDate, UnitPrice, CustomerID, Country]\n",
              "Index: []"
            ]
          },
          "metadata": {
            "tags": []
          },
          "execution_count": 8
        }
      ]
    },
    {
      "cell_type": "markdown",
      "metadata": {
        "id": "s5idc5z2H1zJ",
        "colab_type": "text"
      },
      "source": [
        "**Exclude negative Price entries**"
      ]
    },
    {
      "cell_type": "code",
      "metadata": {
        "id": "_8OdtEVFH1fr",
        "colab_type": "code",
        "outputId": "1e2a9825-ec84-4959-c57f-94b79dead8c2",
        "colab": {
          "base_uri": "https://localhost:8080/",
          "height": 111
        }
      },
      "source": [
        "# Kiểm tra các giá trị UnitPrice âm có tồn tại không trước khi Exclude\n",
        "Online_Retail[Online_Retail['UnitPrice'] < 0].head(5)"
      ],
      "execution_count": 9,
      "outputs": [
        {
          "output_type": "execute_result",
          "data": {
            "text/html": [
              "<div>\n",
              "<style scoped>\n",
              "    .dataframe tbody tr th:only-of-type {\n",
              "        vertical-align: middle;\n",
              "    }\n",
              "\n",
              "    .dataframe tbody tr th {\n",
              "        vertical-align: top;\n",
              "    }\n",
              "\n",
              "    .dataframe thead th {\n",
              "        text-align: right;\n",
              "    }\n",
              "</style>\n",
              "<table border=\"1\" class=\"dataframe\">\n",
              "  <thead>\n",
              "    <tr style=\"text-align: right;\">\n",
              "      <th></th>\n",
              "      <th>InvoiceNo</th>\n",
              "      <th>StockCode</th>\n",
              "      <th>Description</th>\n",
              "      <th>Quantity</th>\n",
              "      <th>InvoiceDate</th>\n",
              "      <th>UnitPrice</th>\n",
              "      <th>CustomerID</th>\n",
              "      <th>Country</th>\n",
              "    </tr>\n",
              "  </thead>\n",
              "  <tbody>\n",
              "    <tr>\n",
              "      <th>299983</th>\n",
              "      <td>A563186</td>\n",
              "      <td>B</td>\n",
              "      <td>Adjust bad debt</td>\n",
              "      <td>1</td>\n",
              "      <td>8/12/11 14:51</td>\n",
              "      <td>-11062.06</td>\n",
              "      <td>NaN</td>\n",
              "      <td>United Kingdom</td>\n",
              "    </tr>\n",
              "    <tr>\n",
              "      <th>299984</th>\n",
              "      <td>A563187</td>\n",
              "      <td>B</td>\n",
              "      <td>Adjust bad debt</td>\n",
              "      <td>1</td>\n",
              "      <td>8/12/11 14:52</td>\n",
              "      <td>-11062.06</td>\n",
              "      <td>NaN</td>\n",
              "      <td>United Kingdom</td>\n",
              "    </tr>\n",
              "  </tbody>\n",
              "</table>\n",
              "</div>"
            ],
            "text/plain": [
              "       InvoiceNo StockCode  ... CustomerID         Country\n",
              "299983   A563186         B  ...        NaN  United Kingdom\n",
              "299984   A563187         B  ...        NaN  United Kingdom\n",
              "\n",
              "[2 rows x 8 columns]"
            ]
          },
          "metadata": {
            "tags": []
          },
          "execution_count": 9
        }
      ]
    },
    {
      "cell_type": "code",
      "metadata": {
        "id": "Q3JOyo1wssZ8",
        "colab_type": "code",
        "outputId": "e9afe9c8-3af8-4e1b-ba76-b7a43385cc8f",
        "colab": {
          "base_uri": "https://localhost:8080/",
          "height": 49
        }
      },
      "source": [
        "# Xóa các hàng UnitPrice có giá trị âm\n",
        "Online_Retail = Online_Retail[Online_Retail['UnitPrice'] >= 0]\n",
        "# Kiểm tra lại\n",
        "Online_Retail[Online_Retail['UnitPrice'] < 0].head(5)"
      ],
      "execution_count": 10,
      "outputs": [
        {
          "output_type": "execute_result",
          "data": {
            "text/html": [
              "<div>\n",
              "<style scoped>\n",
              "    .dataframe tbody tr th:only-of-type {\n",
              "        vertical-align: middle;\n",
              "    }\n",
              "\n",
              "    .dataframe tbody tr th {\n",
              "        vertical-align: top;\n",
              "    }\n",
              "\n",
              "    .dataframe thead th {\n",
              "        text-align: right;\n",
              "    }\n",
              "</style>\n",
              "<table border=\"1\" class=\"dataframe\">\n",
              "  <thead>\n",
              "    <tr style=\"text-align: right;\">\n",
              "      <th></th>\n",
              "      <th>InvoiceNo</th>\n",
              "      <th>StockCode</th>\n",
              "      <th>Description</th>\n",
              "      <th>Quantity</th>\n",
              "      <th>InvoiceDate</th>\n",
              "      <th>UnitPrice</th>\n",
              "      <th>CustomerID</th>\n",
              "      <th>Country</th>\n",
              "    </tr>\n",
              "  </thead>\n",
              "  <tbody>\n",
              "  </tbody>\n",
              "</table>\n",
              "</div>"
            ],
            "text/plain": [
              "Empty DataFrame\n",
              "Columns: [InvoiceNo, StockCode, Description, Quantity, InvoiceDate, UnitPrice, CustomerID, Country]\n",
              "Index: []"
            ]
          },
          "metadata": {
            "tags": []
          },
          "execution_count": 10
        }
      ]
    },
    {
      "cell_type": "markdown",
      "metadata": {
        "id": "Ikd1t-v3Pm17",
        "colab_type": "text"
      },
      "source": [
        "### Step 3 - EDA"
      ]
    },
    {
      "cell_type": "markdown",
      "metadata": {
        "id": "-T3iojz1If_r",
        "colab_type": "text"
      },
      "source": [
        "**The customer with the highest number of orders comes from the United Kingdom (UK)**"
      ]
    },
    {
      "cell_type": "code",
      "metadata": {
        "id": "qIUoWtlPIhxJ",
        "colab_type": "code",
        "outputId": "0c11b0c1-b617-4947-e84f-ce1b15c3b797",
        "colab": {
          "base_uri": "https://localhost:8080/",
          "height": 204
        }
      },
      "source": [
        "# Tạo ra một DataFrame UK chứa tất cả các customer có Country là UK\n",
        "UK = Online_Retail[Online_Retail['Country'] == 'United Kingdom']\n",
        "# Kiểm tra\n",
        "UK.sample(5)"
      ],
      "execution_count": 11,
      "outputs": [
        {
          "output_type": "execute_result",
          "data": {
            "text/html": [
              "<div>\n",
              "<style scoped>\n",
              "    .dataframe tbody tr th:only-of-type {\n",
              "        vertical-align: middle;\n",
              "    }\n",
              "\n",
              "    .dataframe tbody tr th {\n",
              "        vertical-align: top;\n",
              "    }\n",
              "\n",
              "    .dataframe thead th {\n",
              "        text-align: right;\n",
              "    }\n",
              "</style>\n",
              "<table border=\"1\" class=\"dataframe\">\n",
              "  <thead>\n",
              "    <tr style=\"text-align: right;\">\n",
              "      <th></th>\n",
              "      <th>InvoiceNo</th>\n",
              "      <th>StockCode</th>\n",
              "      <th>Description</th>\n",
              "      <th>Quantity</th>\n",
              "      <th>InvoiceDate</th>\n",
              "      <th>UnitPrice</th>\n",
              "      <th>CustomerID</th>\n",
              "      <th>Country</th>\n",
              "    </tr>\n",
              "  </thead>\n",
              "  <tbody>\n",
              "    <tr>\n",
              "      <th>102693</th>\n",
              "      <td>545029</td>\n",
              "      <td>22483</td>\n",
              "      <td>RED GINGHAM TEDDY BEAR</td>\n",
              "      <td>15</td>\n",
              "      <td>2/25/11 15:27</td>\n",
              "      <td>2.95</td>\n",
              "      <td>14541.0</td>\n",
              "      <td>United Kingdom</td>\n",
              "    </tr>\n",
              "    <tr>\n",
              "      <th>445945</th>\n",
              "      <td>574864</td>\n",
              "      <td>23536</td>\n",
              "      <td>WALL ART VILLAGE SHOW</td>\n",
              "      <td>2</td>\n",
              "      <td>11/7/11 12:29</td>\n",
              "      <td>5.95</td>\n",
              "      <td>14387.0</td>\n",
              "      <td>United Kingdom</td>\n",
              "    </tr>\n",
              "    <tr>\n",
              "      <th>238116</th>\n",
              "      <td>557898</td>\n",
              "      <td>21833</td>\n",
              "      <td>CAMOUFLAGE LED TORCH</td>\n",
              "      <td>12</td>\n",
              "      <td>6/23/11 14:35</td>\n",
              "      <td>1.69</td>\n",
              "      <td>17314.0</td>\n",
              "      <td>United Kingdom</td>\n",
              "    </tr>\n",
              "    <tr>\n",
              "      <th>259099</th>\n",
              "      <td>559687</td>\n",
              "      <td>21495</td>\n",
              "      <td>SKULLS AND CROSSBONES WRAP</td>\n",
              "      <td>50</td>\n",
              "      <td>7/11/11 15:28</td>\n",
              "      <td>0.42</td>\n",
              "      <td>17966.0</td>\n",
              "      <td>United Kingdom</td>\n",
              "    </tr>\n",
              "    <tr>\n",
              "      <th>325666</th>\n",
              "      <td>565450</td>\n",
              "      <td>21829</td>\n",
              "      <td>DINOSAUR KEYRINGS ASSORTED</td>\n",
              "      <td>36</td>\n",
              "      <td>9/4/11 15:22</td>\n",
              "      <td>0.21</td>\n",
              "      <td>17722.0</td>\n",
              "      <td>United Kingdom</td>\n",
              "    </tr>\n",
              "  </tbody>\n",
              "</table>\n",
              "</div>"
            ],
            "text/plain": [
              "       InvoiceNo StockCode  ... CustomerID         Country\n",
              "102693    545029     22483  ...    14541.0  United Kingdom\n",
              "445945    574864     23536  ...    14387.0  United Kingdom\n",
              "238116    557898     21833  ...    17314.0  United Kingdom\n",
              "259099    559687     21495  ...    17966.0  United Kingdom\n",
              "325666    565450     21829  ...    17722.0  United Kingdom\n",
              "\n",
              "[5 rows x 8 columns]"
            ]
          },
          "metadata": {
            "tags": []
          },
          "execution_count": 11
        }
      ]
    },
    {
      "cell_type": "code",
      "metadata": {
        "id": "ABrebKj1uc9f",
        "colab_type": "code",
        "outputId": "01dfb774-d0fc-4e7b-f898-80658d9b248c",
        "colab": {
          "base_uri": "https://localhost:8080/",
          "height": 51
        }
      },
      "source": [
        "# Nhóm bảng UK theo CustomerID và gán vào Dataframe temp_UK, sắp xếp giảm dần\n",
        "temp_UK = pd.value_counts(UK['CustomerID'],sort=True)\n",
        "# Lấy ra CustomerID có số lượng Order lớn nhất\n",
        "temp_UK.head(1)"
      ],
      "execution_count": 12,
      "outputs": [
        {
          "output_type": "execute_result",
          "data": {
            "text/plain": [
              "17841.0    7847\n",
              "Name: CustomerID, dtype: int64"
            ]
          },
          "metadata": {
            "tags": []
          },
          "execution_count": 12
        }
      ]
    },
    {
      "cell_type": "markdown",
      "metadata": {
        "id": "9yUfXWelIiTg",
        "colab_type": "text"
      },
      "source": [
        "**The customer with the highest money spent on purchases comes from Netherlands**"
      ]
    },
    {
      "cell_type": "code",
      "metadata": {
        "id": "qCN_rIThJDRj",
        "colab_type": "code",
        "outputId": "94f2d48b-ca79-49b3-944c-c32de573b88a",
        "colab": {
          "base_uri": "https://localhost:8080/",
          "height": 204
        }
      },
      "source": [
        "# Tạo ra một DataFrame Netherland chứa tất cả các customer có Country là Netherlands\n",
        "Netherland = Online_Retail[Online_Retail['Country'] == 'Netherlands']\n",
        "# Kiểm tra\n",
        "Netherland.sample(5)"
      ],
      "execution_count": 13,
      "outputs": [
        {
          "output_type": "execute_result",
          "data": {
            "text/html": [
              "<div>\n",
              "<style scoped>\n",
              "    .dataframe tbody tr th:only-of-type {\n",
              "        vertical-align: middle;\n",
              "    }\n",
              "\n",
              "    .dataframe tbody tr th {\n",
              "        vertical-align: top;\n",
              "    }\n",
              "\n",
              "    .dataframe thead th {\n",
              "        text-align: right;\n",
              "    }\n",
              "</style>\n",
              "<table border=\"1\" class=\"dataframe\">\n",
              "  <thead>\n",
              "    <tr style=\"text-align: right;\">\n",
              "      <th></th>\n",
              "      <th>InvoiceNo</th>\n",
              "      <th>StockCode</th>\n",
              "      <th>Description</th>\n",
              "      <th>Quantity</th>\n",
              "      <th>InvoiceDate</th>\n",
              "      <th>UnitPrice</th>\n",
              "      <th>CustomerID</th>\n",
              "      <th>Country</th>\n",
              "    </tr>\n",
              "  </thead>\n",
              "  <tbody>\n",
              "    <tr>\n",
              "      <th>404858</th>\n",
              "      <td>571697</td>\n",
              "      <td>23007</td>\n",
              "      <td>SPACEBOY BABY GIFT SET</td>\n",
              "      <td>2</td>\n",
              "      <td>10/18/11 14:49</td>\n",
              "      <td>16.95</td>\n",
              "      <td>12759.0</td>\n",
              "      <td>Netherlands</td>\n",
              "    </tr>\n",
              "    <tr>\n",
              "      <th>234451</th>\n",
              "      <td>557525</td>\n",
              "      <td>85123A</td>\n",
              "      <td>WHITE HANGING HEART T-LIGHT HOLDER</td>\n",
              "      <td>6</td>\n",
              "      <td>6/21/11 9:26</td>\n",
              "      <td>2.95</td>\n",
              "      <td>12759.0</td>\n",
              "      <td>Netherlands</td>\n",
              "    </tr>\n",
              "    <tr>\n",
              "      <th>347043</th>\n",
              "      <td>567280</td>\n",
              "      <td>22630</td>\n",
              "      <td>DOLLY GIRL LUNCH BOX</td>\n",
              "      <td>192</td>\n",
              "      <td>9/19/11 11:46</td>\n",
              "      <td>1.65</td>\n",
              "      <td>14646.0</td>\n",
              "      <td>Netherlands</td>\n",
              "    </tr>\n",
              "    <tr>\n",
              "      <th>66110</th>\n",
              "      <td>541711</td>\n",
              "      <td>21424</td>\n",
              "      <td>WOODLAND STORAGE BOX LARGE</td>\n",
              "      <td>24</td>\n",
              "      <td>1/21/11 11:18</td>\n",
              "      <td>2.55</td>\n",
              "      <td>14646.0</td>\n",
              "      <td>Netherlands</td>\n",
              "    </tr>\n",
              "    <tr>\n",
              "      <th>421598</th>\n",
              "      <td>573002</td>\n",
              "      <td>23382</td>\n",
              "      <td>BOX OF 6 CHRISTMAS CAKE DECORATIONS</td>\n",
              "      <td>36</td>\n",
              "      <td>10/27/11 12:09</td>\n",
              "      <td>3.29</td>\n",
              "      <td>14646.0</td>\n",
              "      <td>Netherlands</td>\n",
              "    </tr>\n",
              "  </tbody>\n",
              "</table>\n",
              "</div>"
            ],
            "text/plain": [
              "       InvoiceNo StockCode  ... CustomerID      Country\n",
              "404858    571697     23007  ...    12759.0  Netherlands\n",
              "234451    557525    85123A  ...    12759.0  Netherlands\n",
              "347043    567280     22630  ...    14646.0  Netherlands\n",
              "66110     541711     21424  ...    14646.0  Netherlands\n",
              "421598    573002     23382  ...    14646.0  Netherlands\n",
              "\n",
              "[5 rows x 8 columns]"
            ]
          },
          "metadata": {
            "tags": []
          },
          "execution_count": 13
        }
      ]
    },
    {
      "cell_type": "code",
      "metadata": {
        "id": "nYqSgn3q2OXf",
        "colab_type": "code",
        "outputId": "264f5b4b-104b-43f8-af32-aa0ec182cda1",
        "colab": {
          "base_uri": "https://localhost:8080/",
          "height": 461
        }
      },
      "source": [
        "# Tạo cột ghi số tiền chi ra cho mỗi Order\n",
        "Netherland['Total'] = Netherland['UnitPrice']*Netherland['Quantity']\n",
        "# Kiểm tra\n",
        "Netherland.sample(10)"
      ],
      "execution_count": 15,
      "outputs": [
        {
          "output_type": "stream",
          "text": [
            "/usr/local/lib/python3.6/dist-packages/ipykernel_launcher.py:1: SettingWithCopyWarning: \n",
            "A value is trying to be set on a copy of a slice from a DataFrame.\n",
            "Try using .loc[row_indexer,col_indexer] = value instead\n",
            "\n",
            "See the caveats in the documentation: http://pandas.pydata.org/pandas-docs/stable/indexing.html#indexing-view-versus-copy\n",
            "  \"\"\"Entry point for launching an IPython kernel.\n"
          ],
          "name": "stderr"
        },
        {
          "output_type": "execute_result",
          "data": {
            "text/html": [
              "<div>\n",
              "<style scoped>\n",
              "    .dataframe tbody tr th:only-of-type {\n",
              "        vertical-align: middle;\n",
              "    }\n",
              "\n",
              "    .dataframe tbody tr th {\n",
              "        vertical-align: top;\n",
              "    }\n",
              "\n",
              "    .dataframe thead th {\n",
              "        text-align: right;\n",
              "    }\n",
              "</style>\n",
              "<table border=\"1\" class=\"dataframe\">\n",
              "  <thead>\n",
              "    <tr style=\"text-align: right;\">\n",
              "      <th></th>\n",
              "      <th>InvoiceNo</th>\n",
              "      <th>StockCode</th>\n",
              "      <th>Description</th>\n",
              "      <th>Quantity</th>\n",
              "      <th>InvoiceDate</th>\n",
              "      <th>UnitPrice</th>\n",
              "      <th>CustomerID</th>\n",
              "      <th>Country</th>\n",
              "      <th>Total</th>\n",
              "    </tr>\n",
              "  </thead>\n",
              "  <tbody>\n",
              "    <tr>\n",
              "      <th>314718</th>\n",
              "      <td>564650</td>\n",
              "      <td>22846</td>\n",
              "      <td>BREAD BIN DINER STYLE RED</td>\n",
              "      <td>8</td>\n",
              "      <td>8/26/11 14:17</td>\n",
              "      <td>14.95</td>\n",
              "      <td>14646.0</td>\n",
              "      <td>Netherlands</td>\n",
              "      <td>119.60</td>\n",
              "    </tr>\n",
              "    <tr>\n",
              "      <th>299038</th>\n",
              "      <td>563076</td>\n",
              "      <td>21122</td>\n",
              "      <td>SET/10 PINK POLKADOT PARTY CANDLES</td>\n",
              "      <td>288</td>\n",
              "      <td>8/11/11 16:12</td>\n",
              "      <td>1.06</td>\n",
              "      <td>14646.0</td>\n",
              "      <td>Netherlands</td>\n",
              "      <td>305.28</td>\n",
              "    </tr>\n",
              "    <tr>\n",
              "      <th>57426</th>\n",
              "      <td>541206</td>\n",
              "      <td>84992</td>\n",
              "      <td>72 SWEETHEART FAIRY CAKE CASES</td>\n",
              "      <td>120</td>\n",
              "      <td>1/14/11 12:24</td>\n",
              "      <td>0.42</td>\n",
              "      <td>14646.0</td>\n",
              "      <td>Netherlands</td>\n",
              "      <td>50.40</td>\n",
              "    </tr>\n",
              "    <tr>\n",
              "      <th>534909</th>\n",
              "      <td>581175</td>\n",
              "      <td>22905</td>\n",
              "      <td>CALENDAR IN SEASON DESIGN</td>\n",
              "      <td>40</td>\n",
              "      <td>12/7/11 15:16</td>\n",
              "      <td>1.25</td>\n",
              "      <td>14646.0</td>\n",
              "      <td>Netherlands</td>\n",
              "      <td>50.00</td>\n",
              "    </tr>\n",
              "    <tr>\n",
              "      <th>214588</th>\n",
              "      <td>555589</td>\n",
              "      <td>21789</td>\n",
              "      <td>KIDS RAIN MAC PINK</td>\n",
              "      <td>24</td>\n",
              "      <td>6/6/11 9:36</td>\n",
              "      <td>0.85</td>\n",
              "      <td>12802.0</td>\n",
              "      <td>Netherlands</td>\n",
              "      <td>20.40</td>\n",
              "    </tr>\n",
              "    <tr>\n",
              "      <th>40237</th>\n",
              "      <td>539731</td>\n",
              "      <td>22629</td>\n",
              "      <td>SPACEBOY LUNCH BOX</td>\n",
              "      <td>128</td>\n",
              "      <td>12/21/10 15:05</td>\n",
              "      <td>1.65</td>\n",
              "      <td>14646.0</td>\n",
              "      <td>Netherlands</td>\n",
              "      <td>211.20</td>\n",
              "    </tr>\n",
              "    <tr>\n",
              "      <th>298965</th>\n",
              "      <td>563076</td>\n",
              "      <td>21731</td>\n",
              "      <td>RED TOADSTOOL LED NIGHT LIGHT</td>\n",
              "      <td>288</td>\n",
              "      <td>8/11/11 16:12</td>\n",
              "      <td>1.45</td>\n",
              "      <td>14646.0</td>\n",
              "      <td>Netherlands</td>\n",
              "      <td>417.60</td>\n",
              "    </tr>\n",
              "    <tr>\n",
              "      <th>40203</th>\n",
              "      <td>539731</td>\n",
              "      <td>22472</td>\n",
              "      <td>TV DINNER TRAY DOLLY GIRL</td>\n",
              "      <td>16</td>\n",
              "      <td>12/21/10 15:05</td>\n",
              "      <td>4.25</td>\n",
              "      <td>14646.0</td>\n",
              "      <td>Netherlands</td>\n",
              "      <td>68.00</td>\n",
              "    </tr>\n",
              "    <tr>\n",
              "      <th>137028</th>\n",
              "      <td>548011</td>\n",
              "      <td>22631</td>\n",
              "      <td>CIRCUS PARADE LUNCH BOX</td>\n",
              "      <td>128</td>\n",
              "      <td>3/29/11 11:14</td>\n",
              "      <td>1.65</td>\n",
              "      <td>14646.0</td>\n",
              "      <td>Netherlands</td>\n",
              "      <td>211.20</td>\n",
              "    </tr>\n",
              "    <tr>\n",
              "      <th>491948</th>\n",
              "      <td>578082</td>\n",
              "      <td>23487</td>\n",
              "      <td>SWEET HEART CAKE CARRIER</td>\n",
              "      <td>2</td>\n",
              "      <td>11/22/11 16:33</td>\n",
              "      <td>9.95</td>\n",
              "      <td>12775.0</td>\n",
              "      <td>Netherlands</td>\n",
              "      <td>19.90</td>\n",
              "    </tr>\n",
              "  </tbody>\n",
              "</table>\n",
              "</div>"
            ],
            "text/plain": [
              "       InvoiceNo StockCode  ...      Country   Total\n",
              "314718    564650     22846  ...  Netherlands  119.60\n",
              "299038    563076     21122  ...  Netherlands  305.28\n",
              "57426     541206     84992  ...  Netherlands   50.40\n",
              "534909    581175     22905  ...  Netherlands   50.00\n",
              "214588    555589     21789  ...  Netherlands   20.40\n",
              "40237     539731     22629  ...  Netherlands  211.20\n",
              "298965    563076     21731  ...  Netherlands  417.60\n",
              "40203     539731     22472  ...  Netherlands   68.00\n",
              "137028    548011     22631  ...  Netherlands  211.20\n",
              "491948    578082     23487  ...  Netherlands   19.90\n",
              "\n",
              "[10 rows x 9 columns]"
            ]
          },
          "metadata": {
            "tags": []
          },
          "execution_count": 15
        }
      ]
    },
    {
      "cell_type": "code",
      "metadata": {
        "id": "n0a_rhNx7Rzl",
        "colab_type": "code",
        "outputId": "b35d8146-3a06-4c6b-e748-bc82b1115d08",
        "colab": {
          "base_uri": "https://localhost:8080/",
          "height": 235
        }
      },
      "source": [
        "# Tạo Dataframe mới bằng cách gộp các giá trị của Total và tính sum()\n",
        "Revenue = Netherland.groupby(['CustomerID']).sum()\n",
        "# Kiểm tra\n",
        "Revenue.sample(5)"
      ],
      "execution_count": 16,
      "outputs": [
        {
          "output_type": "execute_result",
          "data": {
            "text/html": [
              "<div>\n",
              "<style scoped>\n",
              "    .dataframe tbody tr th:only-of-type {\n",
              "        vertical-align: middle;\n",
              "    }\n",
              "\n",
              "    .dataframe tbody tr th {\n",
              "        vertical-align: top;\n",
              "    }\n",
              "\n",
              "    .dataframe thead th {\n",
              "        text-align: right;\n",
              "    }\n",
              "</style>\n",
              "<table border=\"1\" class=\"dataframe\">\n",
              "  <thead>\n",
              "    <tr style=\"text-align: right;\">\n",
              "      <th></th>\n",
              "      <th>Quantity</th>\n",
              "      <th>UnitPrice</th>\n",
              "      <th>Total</th>\n",
              "    </tr>\n",
              "    <tr>\n",
              "      <th>CustomerID</th>\n",
              "      <th></th>\n",
              "      <th></th>\n",
              "      <th></th>\n",
              "    </tr>\n",
              "  </thead>\n",
              "  <tbody>\n",
              "    <tr>\n",
              "      <th>12778.0</th>\n",
              "      <td>825</td>\n",
              "      <td>175.47</td>\n",
              "      <td>822.23</td>\n",
              "    </tr>\n",
              "    <tr>\n",
              "      <th>12790.0</th>\n",
              "      <td>166</td>\n",
              "      <td>82.92</td>\n",
              "      <td>324.92</td>\n",
              "    </tr>\n",
              "    <tr>\n",
              "      <th>12791.0</th>\n",
              "      <td>97</td>\n",
              "      <td>16.85</td>\n",
              "      <td>192.60</td>\n",
              "    </tr>\n",
              "    <tr>\n",
              "      <th>12759.0</th>\n",
              "      <td>902</td>\n",
              "      <td>305.47</td>\n",
              "      <td>1531.44</td>\n",
              "    </tr>\n",
              "    <tr>\n",
              "      <th>12789.0</th>\n",
              "      <td>4</td>\n",
              "      <td>91.85</td>\n",
              "      <td>91.85</td>\n",
              "    </tr>\n",
              "  </tbody>\n",
              "</table>\n",
              "</div>"
            ],
            "text/plain": [
              "            Quantity  UnitPrice    Total\n",
              "CustomerID                              \n",
              "12778.0          825     175.47   822.23\n",
              "12790.0          166      82.92   324.92\n",
              "12791.0           97      16.85   192.60\n",
              "12759.0          902     305.47  1531.44\n",
              "12789.0            4      91.85    91.85"
            ]
          },
          "metadata": {
            "tags": []
          },
          "execution_count": 16
        }
      ]
    },
    {
      "cell_type": "code",
      "metadata": {
        "id": "IVhX1JID_YEo",
        "colab_type": "code",
        "outputId": "1734836c-1868-4178-c34f-00e3a2114d94",
        "colab": {
          "base_uri": "https://localhost:8080/",
          "height": 111
        }
      },
      "source": [
        "# Customer tiêu nhiều nhất\n",
        "temp_Neth = Revenue[Revenue['Total'] == Revenue['Total'].max()]\n",
        "temp_Neth"
      ],
      "execution_count": 17,
      "outputs": [
        {
          "output_type": "execute_result",
          "data": {
            "text/html": [
              "<div>\n",
              "<style scoped>\n",
              "    .dataframe tbody tr th:only-of-type {\n",
              "        vertical-align: middle;\n",
              "    }\n",
              "\n",
              "    .dataframe tbody tr th {\n",
              "        vertical-align: top;\n",
              "    }\n",
              "\n",
              "    .dataframe thead th {\n",
              "        text-align: right;\n",
              "    }\n",
              "</style>\n",
              "<table border=\"1\" class=\"dataframe\">\n",
              "  <thead>\n",
              "    <tr style=\"text-align: right;\">\n",
              "      <th></th>\n",
              "      <th>Quantity</th>\n",
              "      <th>UnitPrice</th>\n",
              "      <th>Total</th>\n",
              "    </tr>\n",
              "    <tr>\n",
              "      <th>CustomerID</th>\n",
              "      <th></th>\n",
              "      <th></th>\n",
              "      <th></th>\n",
              "    </tr>\n",
              "  </thead>\n",
              "  <tbody>\n",
              "    <tr>\n",
              "      <th>14646.0</th>\n",
              "      <td>197491</td>\n",
              "      <td>5176.09</td>\n",
              "      <td>280206.02</td>\n",
              "    </tr>\n",
              "  </tbody>\n",
              "</table>\n",
              "</div>"
            ],
            "text/plain": [
              "            Quantity  UnitPrice      Total\n",
              "CustomerID                                \n",
              "14646.0       197491    5176.09  280206.02"
            ]
          },
          "metadata": {
            "tags": []
          },
          "execution_count": 17
        }
      ]
    },
    {
      "cell_type": "code",
      "metadata": {
        "id": "Y0J4kiFWdnYd",
        "colab_type": "code",
        "outputId": "8d2fc4e3-c4be-43ce-ee5e-0c0921651252",
        "colab": {
          "base_uri": "https://localhost:8080/",
          "height": 34
        }
      },
      "source": [
        "# Kiểm tra giá trị\n",
        "Revenue['Total'].max()"
      ],
      "execution_count": 19,
      "outputs": [
        {
          "output_type": "execute_result",
          "data": {
            "text/plain": [
              "280206.01999999984"
            ]
          },
          "metadata": {
            "tags": []
          },
          "execution_count": 19
        }
      ]
    },
    {
      "cell_type": "markdown",
      "metadata": {
        "id": "UcCxS85hIwLb",
        "colab_type": "text"
      },
      "source": [
        "**On which year had the highest sales?**"
      ]
    },
    {
      "cell_type": "code",
      "metadata": {
        "id": "9MwBFb-mC3mq",
        "colab_type": "code",
        "colab": {}
      },
      "source": [
        "# Hàm lấy ra năm theo tham số a\n",
        "def take_year(a):\n",
        "  b = a.split(' ')\n",
        "  c = b[0].split('/')\n",
        "  return c[2]"
      ],
      "execution_count": 0,
      "outputs": []
    },
    {
      "cell_type": "code",
      "metadata": {
        "id": "6lJJNcWLDKhK",
        "colab_type": "code",
        "outputId": "5d060369-c809-4298-a313-0cb3431d01de",
        "colab": {
          "base_uri": "https://localhost:8080/",
          "height": 204
        }
      },
      "source": [
        "# Tạo một list Year trong đó đã Parse ra năm theo cấu trúc của InvoiceDate\n",
        "Year = [take_year(i) for i in Online_Retail['InvoiceDate']]\n",
        "# Tạo một cột Year mới cho Dataframe\n",
        "Online_Retail['Year'] = Year\n",
        "# Kiểm tra\n",
        "Online_Retail.sample(5)"
      ],
      "execution_count": 21,
      "outputs": [
        {
          "output_type": "execute_result",
          "data": {
            "text/html": [
              "<div>\n",
              "<style scoped>\n",
              "    .dataframe tbody tr th:only-of-type {\n",
              "        vertical-align: middle;\n",
              "    }\n",
              "\n",
              "    .dataframe tbody tr th {\n",
              "        vertical-align: top;\n",
              "    }\n",
              "\n",
              "    .dataframe thead th {\n",
              "        text-align: right;\n",
              "    }\n",
              "</style>\n",
              "<table border=\"1\" class=\"dataframe\">\n",
              "  <thead>\n",
              "    <tr style=\"text-align: right;\">\n",
              "      <th></th>\n",
              "      <th>InvoiceNo</th>\n",
              "      <th>StockCode</th>\n",
              "      <th>Description</th>\n",
              "      <th>Quantity</th>\n",
              "      <th>InvoiceDate</th>\n",
              "      <th>UnitPrice</th>\n",
              "      <th>CustomerID</th>\n",
              "      <th>Country</th>\n",
              "      <th>Year</th>\n",
              "    </tr>\n",
              "  </thead>\n",
              "  <tbody>\n",
              "    <tr>\n",
              "      <th>185284</th>\n",
              "      <td>552803</td>\n",
              "      <td>15034</td>\n",
              "      <td>PAPER POCKET TRAVELING FAN</td>\n",
              "      <td>12</td>\n",
              "      <td>5/11/11 12:32</td>\n",
              "      <td>0.14</td>\n",
              "      <td>14573.0</td>\n",
              "      <td>United Kingdom</td>\n",
              "      <td>11</td>\n",
              "    </tr>\n",
              "    <tr>\n",
              "      <th>225162</th>\n",
              "      <td>556636</td>\n",
              "      <td>23082</td>\n",
              "      <td>SET 6 PAPER TABLE LANTERN HEARTS</td>\n",
              "      <td>3</td>\n",
              "      <td>6/13/11 15:30</td>\n",
              "      <td>7.46</td>\n",
              "      <td>NaN</td>\n",
              "      <td>United Kingdom</td>\n",
              "      <td>11</td>\n",
              "    </tr>\n",
              "    <tr>\n",
              "      <th>257830</th>\n",
              "      <td>559545</td>\n",
              "      <td>22152</td>\n",
              "      <td>PLACE SETTING WHITE STAR</td>\n",
              "      <td>24</td>\n",
              "      <td>7/10/11 14:42</td>\n",
              "      <td>0.42</td>\n",
              "      <td>15467.0</td>\n",
              "      <td>United Kingdom</td>\n",
              "      <td>11</td>\n",
              "    </tr>\n",
              "    <tr>\n",
              "      <th>418051</th>\n",
              "      <td>572682</td>\n",
              "      <td>72802C</td>\n",
              "      <td>VANILLA SCENT CANDLE JEWELLED BOX</td>\n",
              "      <td>1</td>\n",
              "      <td>10/25/11 13:52</td>\n",
              "      <td>4.25</td>\n",
              "      <td>17928.0</td>\n",
              "      <td>United Kingdom</td>\n",
              "      <td>11</td>\n",
              "    </tr>\n",
              "    <tr>\n",
              "      <th>472983</th>\n",
              "      <td>576778</td>\n",
              "      <td>22489</td>\n",
              "      <td>PACK OF 12 TRADITIONAL CRAYONS</td>\n",
              "      <td>3</td>\n",
              "      <td>11/16/11 13:24</td>\n",
              "      <td>0.42</td>\n",
              "      <td>16085.0</td>\n",
              "      <td>United Kingdom</td>\n",
              "      <td>11</td>\n",
              "    </tr>\n",
              "  </tbody>\n",
              "</table>\n",
              "</div>"
            ],
            "text/plain": [
              "       InvoiceNo StockCode  ...         Country  Year\n",
              "185284    552803     15034  ...  United Kingdom    11\n",
              "225162    556636     23082  ...  United Kingdom    11\n",
              "257830    559545     22152  ...  United Kingdom    11\n",
              "418051    572682    72802C  ...  United Kingdom    11\n",
              "472983    576778     22489  ...  United Kingdom    11\n",
              "\n",
              "[5 rows x 9 columns]"
            ]
          },
          "metadata": {
            "tags": []
          },
          "execution_count": 21
        }
      ]
    },
    {
      "cell_type": "code",
      "metadata": {
        "id": "FV81gi1hHzHi",
        "colab_type": "code",
        "outputId": "d92c965f-9c60-4d9c-fb8d-f0da53819896",
        "colab": {
          "base_uri": "https://localhost:8080/",
          "height": 204
        }
      },
      "source": [
        "# Tạo cột doanh thu\n",
        "Online_Retail['Total'] = Online_Retail['UnitPrice']*Online_Retail['Quantity']\n",
        "# Kiểm tra\n",
        "Online_Retail.sample(5)"
      ],
      "execution_count": 22,
      "outputs": [
        {
          "output_type": "execute_result",
          "data": {
            "text/html": [
              "<div>\n",
              "<style scoped>\n",
              "    .dataframe tbody tr th:only-of-type {\n",
              "        vertical-align: middle;\n",
              "    }\n",
              "\n",
              "    .dataframe tbody tr th {\n",
              "        vertical-align: top;\n",
              "    }\n",
              "\n",
              "    .dataframe thead th {\n",
              "        text-align: right;\n",
              "    }\n",
              "</style>\n",
              "<table border=\"1\" class=\"dataframe\">\n",
              "  <thead>\n",
              "    <tr style=\"text-align: right;\">\n",
              "      <th></th>\n",
              "      <th>InvoiceNo</th>\n",
              "      <th>StockCode</th>\n",
              "      <th>Description</th>\n",
              "      <th>Quantity</th>\n",
              "      <th>InvoiceDate</th>\n",
              "      <th>UnitPrice</th>\n",
              "      <th>CustomerID</th>\n",
              "      <th>Country</th>\n",
              "      <th>Year</th>\n",
              "      <th>Total</th>\n",
              "    </tr>\n",
              "  </thead>\n",
              "  <tbody>\n",
              "    <tr>\n",
              "      <th>475580</th>\n",
              "      <td>576905</td>\n",
              "      <td>82482</td>\n",
              "      <td>WOODEN PICTURE FRAME WHITE FINISH</td>\n",
              "      <td>6</td>\n",
              "      <td>11/17/11 9:31</td>\n",
              "      <td>2.95</td>\n",
              "      <td>13308.0</td>\n",
              "      <td>United Kingdom</td>\n",
              "      <td>11</td>\n",
              "      <td>17.70</td>\n",
              "    </tr>\n",
              "    <tr>\n",
              "      <th>111785</th>\n",
              "      <td>545830</td>\n",
              "      <td>21169</td>\n",
              "      <td>YOU'RE CONFUSING ME METAL SIGN</td>\n",
              "      <td>2</td>\n",
              "      <td>3/7/11 13:10</td>\n",
              "      <td>1.69</td>\n",
              "      <td>17634.0</td>\n",
              "      <td>United Kingdom</td>\n",
              "      <td>11</td>\n",
              "      <td>3.38</td>\n",
              "    </tr>\n",
              "    <tr>\n",
              "      <th>297058</th>\n",
              "      <td>562933</td>\n",
              "      <td>72807B</td>\n",
              "      <td>SET/3 OCEAN SCENT CANDLE JEWEL BOX</td>\n",
              "      <td>1</td>\n",
              "      <td>8/10/11 16:51</td>\n",
              "      <td>8.29</td>\n",
              "      <td>NaN</td>\n",
              "      <td>United Kingdom</td>\n",
              "      <td>11</td>\n",
              "      <td>8.29</td>\n",
              "    </tr>\n",
              "    <tr>\n",
              "      <th>72987</th>\n",
              "      <td>542276</td>\n",
              "      <td>82600</td>\n",
              "      <td>NO SINGING METAL SIGN</td>\n",
              "      <td>12</td>\n",
              "      <td>1/27/11 10:19</td>\n",
              "      <td>2.10</td>\n",
              "      <td>12764.0</td>\n",
              "      <td>Lebanon</td>\n",
              "      <td>11</td>\n",
              "      <td>25.20</td>\n",
              "    </tr>\n",
              "    <tr>\n",
              "      <th>321746</th>\n",
              "      <td>565200</td>\n",
              "      <td>20866</td>\n",
              "      <td>BLUE ROSE FABRIC MIRROR</td>\n",
              "      <td>5</td>\n",
              "      <td>9/1/11 16:30</td>\n",
              "      <td>1.25</td>\n",
              "      <td>17576.0</td>\n",
              "      <td>United Kingdom</td>\n",
              "      <td>11</td>\n",
              "      <td>6.25</td>\n",
              "    </tr>\n",
              "  </tbody>\n",
              "</table>\n",
              "</div>"
            ],
            "text/plain": [
              "       InvoiceNo StockCode  ... Year  Total\n",
              "475580    576905     82482  ...   11  17.70\n",
              "111785    545830     21169  ...   11   3.38\n",
              "297058    562933    72807B  ...   11   8.29\n",
              "72987     542276     82600  ...   11  25.20\n",
              "321746    565200     20866  ...   11   6.25\n",
              "\n",
              "[5 rows x 10 columns]"
            ]
          },
          "metadata": {
            "tags": []
          },
          "execution_count": 22
        }
      ]
    },
    {
      "cell_type": "code",
      "metadata": {
        "id": "gyFaodneIVgo",
        "colab_type": "code",
        "outputId": "ed06d9a6-9782-44a3-da02-a2c7734d7b13",
        "colab": {
          "base_uri": "https://localhost:8080/",
          "height": 111
        }
      },
      "source": [
        "# Tạo Dataframe mới bằng cách gộp các giá trị của Total và tính sum()\n",
        "Sale = Online_Retail.groupby(['Year']).sum()\n",
        "# Biến temp_Year chính là năm có Total lớn nhất\n",
        "temp_Year = Sale[Sale['Total'] == Sale['Total'].max()]\n",
        "temp_Year"
      ],
      "execution_count": 23,
      "outputs": [
        {
          "output_type": "execute_result",
          "data": {
            "text/html": [
              "<div>\n",
              "<style scoped>\n",
              "    .dataframe tbody tr th:only-of-type {\n",
              "        vertical-align: middle;\n",
              "    }\n",
              "\n",
              "    .dataframe tbody tr th {\n",
              "        vertical-align: top;\n",
              "    }\n",
              "\n",
              "    .dataframe thead th {\n",
              "        text-align: right;\n",
              "    }\n",
              "</style>\n",
              "<table border=\"1\" class=\"dataframe\">\n",
              "  <thead>\n",
              "    <tr style=\"text-align: right;\">\n",
              "      <th></th>\n",
              "      <th>Quantity</th>\n",
              "      <th>UnitPrice</th>\n",
              "      <th>CustomerID</th>\n",
              "      <th>Total</th>\n",
              "    </tr>\n",
              "    <tr>\n",
              "      <th>Year</th>\n",
              "      <th></th>\n",
              "      <th></th>\n",
              "      <th></th>\n",
              "      <th></th>\n",
              "    </tr>\n",
              "  </thead>\n",
              "  <tbody>\n",
              "    <tr>\n",
              "      <th>11</th>\n",
              "      <td>5298663</td>\n",
              "      <td>1.871543e+06</td>\n",
              "      <td>5.679734e+09</td>\n",
              "      <td>9.842938e+06</td>\n",
              "    </tr>\n",
              "  </tbody>\n",
              "</table>\n",
              "</div>"
            ],
            "text/plain": [
              "      Quantity     UnitPrice    CustomerID         Total\n",
              "Year                                                    \n",
              "11     5298663  1.871543e+06  5.679734e+09  9.842938e+06"
            ]
          },
          "metadata": {
            "tags": []
          },
          "execution_count": 23
        }
      ]
    },
    {
      "cell_type": "code",
      "metadata": {
        "id": "wI_USXSxdvLa",
        "colab_type": "code",
        "outputId": "34553017-37d6-467a-84ef-9b0e30b3fd24",
        "colab": {
          "base_uri": "https://localhost:8080/",
          "height": 34
        }
      },
      "source": [
        "# Kiểm tra\n",
        "Sale['Total'].max()"
      ],
      "execution_count": 24,
      "outputs": [
        {
          "output_type": "execute_result",
          "data": {
            "text/plain": [
              "9842938.404003019"
            ]
          },
          "metadata": {
            "tags": []
          },
          "execution_count": 24
        }
      ]
    },
    {
      "cell_type": "markdown",
      "metadata": {
        "id": "W-IKvzruKHXb",
        "colab_type": "text"
      },
      "source": [
        "**How many orders (per hour)?**"
      ]
    },
    {
      "cell_type": "code",
      "metadata": {
        "id": "RHS5ridWKQ4u",
        "colab_type": "code",
        "colab": {}
      },
      "source": [
        "# Hàm lấy ra giờ theo tham số a\n",
        "def take_hour(a):\n",
        "  b = a.split(' ')\n",
        "  c=b[1].split(':')\n",
        "  return c[0]"
      ],
      "execution_count": 0,
      "outputs": []
    },
    {
      "cell_type": "code",
      "metadata": {
        "id": "x4V9lSbFePh6",
        "colab_type": "code",
        "outputId": "3dc6f437-8990-4f79-ce65-488a693ed465",
        "colab": {
          "base_uri": "https://localhost:8080/",
          "height": 204
        }
      },
      "source": [
        "# Tạo một list Hour trong đó đã Parse ra năm theo cấu trúc của InvoiceDate\n",
        "Hour = [take_hour(i) for i in Online_Retail['InvoiceDate']]\n",
        "# Tạo một cột Hour mới cho Dataframe\n",
        "Online_Retail['Hour'] = Hour\n",
        "# Kiểm tra\n",
        "Online_Retail.sample(5)"
      ],
      "execution_count": 49,
      "outputs": [
        {
          "output_type": "execute_result",
          "data": {
            "text/html": [
              "<div>\n",
              "<style scoped>\n",
              "    .dataframe tbody tr th:only-of-type {\n",
              "        vertical-align: middle;\n",
              "    }\n",
              "\n",
              "    .dataframe tbody tr th {\n",
              "        vertical-align: top;\n",
              "    }\n",
              "\n",
              "    .dataframe thead th {\n",
              "        text-align: right;\n",
              "    }\n",
              "</style>\n",
              "<table border=\"1\" class=\"dataframe\">\n",
              "  <thead>\n",
              "    <tr style=\"text-align: right;\">\n",
              "      <th></th>\n",
              "      <th>InvoiceNo</th>\n",
              "      <th>StockCode</th>\n",
              "      <th>Description</th>\n",
              "      <th>Quantity</th>\n",
              "      <th>InvoiceDate</th>\n",
              "      <th>UnitPrice</th>\n",
              "      <th>CustomerID</th>\n",
              "      <th>Country</th>\n",
              "      <th>Year</th>\n",
              "      <th>Total</th>\n",
              "      <th>Hour</th>\n",
              "      <th>Month</th>\n",
              "    </tr>\n",
              "  </thead>\n",
              "  <tbody>\n",
              "    <tr>\n",
              "      <th>142957</th>\n",
              "      <td>548659</td>\n",
              "      <td>22979</td>\n",
              "      <td>PANTRY WASHING UP BRUSH</td>\n",
              "      <td>12</td>\n",
              "      <td>4/1/11 14:19</td>\n",
              "      <td>1.45</td>\n",
              "      <td>13418.0</td>\n",
              "      <td>United Kingdom</td>\n",
              "      <td>11</td>\n",
              "      <td>17.40</td>\n",
              "      <td>14</td>\n",
              "      <td>4</td>\n",
              "    </tr>\n",
              "    <tr>\n",
              "      <th>517247</th>\n",
              "      <td>580048</td>\n",
              "      <td>23579</td>\n",
              "      <td>SNACK TRAY I LOVE LONDON</td>\n",
              "      <td>1</td>\n",
              "      <td>12/1/11 12:53</td>\n",
              "      <td>1.95</td>\n",
              "      <td>12748.0</td>\n",
              "      <td>United Kingdom</td>\n",
              "      <td>11</td>\n",
              "      <td>1.95</td>\n",
              "      <td>12</td>\n",
              "      <td>12</td>\n",
              "    </tr>\n",
              "    <tr>\n",
              "      <th>353124</th>\n",
              "      <td>567742</td>\n",
              "      <td>23107</td>\n",
              "      <td>WHITE HEARTS WIRE PLANT POT HOLDER</td>\n",
              "      <td>8</td>\n",
              "      <td>9/22/11 10:47</td>\n",
              "      <td>2.89</td>\n",
              "      <td>14261.0</td>\n",
              "      <td>United Kingdom</td>\n",
              "      <td>11</td>\n",
              "      <td>23.12</td>\n",
              "      <td>10</td>\n",
              "      <td>9</td>\n",
              "    </tr>\n",
              "    <tr>\n",
              "      <th>340561</th>\n",
              "      <td>566673</td>\n",
              "      <td>21136</td>\n",
              "      <td>PAINTED METAL PEARS ASSORTED</td>\n",
              "      <td>8</td>\n",
              "      <td>9/14/11 11:39</td>\n",
              "      <td>1.69</td>\n",
              "      <td>17728.0</td>\n",
              "      <td>United Kingdom</td>\n",
              "      <td>11</td>\n",
              "      <td>13.52</td>\n",
              "      <td>11</td>\n",
              "      <td>9</td>\n",
              "    </tr>\n",
              "    <tr>\n",
              "      <th>6957</th>\n",
              "      <td>536982</td>\n",
              "      <td>84997b</td>\n",
              "      <td>RED 3 PIECE RETROSPOT CUTLERY SET</td>\n",
              "      <td>10</td>\n",
              "      <td>12/3/10 14:27</td>\n",
              "      <td>8.47</td>\n",
              "      <td>NaN</td>\n",
              "      <td>United Kingdom</td>\n",
              "      <td>10</td>\n",
              "      <td>84.70</td>\n",
              "      <td>14</td>\n",
              "      <td>12</td>\n",
              "    </tr>\n",
              "  </tbody>\n",
              "</table>\n",
              "</div>"
            ],
            "text/plain": [
              "       InvoiceNo StockCode  ... Hour  Month\n",
              "142957    548659     22979  ...   14      4\n",
              "517247    580048     23579  ...   12     12\n",
              "353124    567742     23107  ...   10      9\n",
              "340561    566673     21136  ...   11      9\n",
              "6957      536982    84997b  ...   14     12\n",
              "\n",
              "[5 rows x 12 columns]"
            ]
          },
          "metadata": {
            "tags": []
          },
          "execution_count": 49
        }
      ]
    },
    {
      "cell_type": "code",
      "metadata": {
        "id": "CiP28pzoHt3s",
        "colab_type": "code",
        "colab": {
          "base_uri": "https://localhost:8080/",
          "height": 51
        },
        "outputId": "2d69d865-4181-47b4-c055-e2d1d1099712"
      },
      "source": [
        "# Đếm số lượng Hour, số lượng Hour chính là số lượng đơn hàng\n",
        "temp_Hour = Online_Retail['Hour'].value_counts()\n",
        "# Phân tử đầu tiên là phần tử xuất hiện nhiều nhất => Thời gian có nhiều đơn hàng nhất\n",
        "temp_Hour.head(1)"
      ],
      "execution_count": 28,
      "outputs": [
        {
          "output_type": "execute_result",
          "data": {
            "text/plain": [
              "12    77230\n",
              "Name: Hour, dtype: int64"
            ]
          },
          "metadata": {
            "tags": []
          },
          "execution_count": 28
        }
      ]
    },
    {
      "cell_type": "code",
      "metadata": {
        "id": "ZuvXHUSvPImw",
        "colab_type": "code",
        "colab": {
          "base_uri": "https://localhost:8080/",
          "height": 514
        },
        "outputId": "df9227fd-376f-46f4-b802-72137b51bdd0"
      },
      "source": [
        "# Đặt tên Series\n",
        "temp = pd.Series(temp_Hour, name=\"Order per Hour\")\n",
        "# Label cho Series\n",
        "df = pd.DataFrame({'Hour':temp.index, 'Order':temp.values})\n",
        "# Xuất bảng\n",
        "df"
      ],
      "execution_count": 29,
      "outputs": [
        {
          "output_type": "execute_result",
          "data": {
            "text/html": [
              "<div>\n",
              "<style scoped>\n",
              "    .dataframe tbody tr th:only-of-type {\n",
              "        vertical-align: middle;\n",
              "    }\n",
              "\n",
              "    .dataframe tbody tr th {\n",
              "        vertical-align: top;\n",
              "    }\n",
              "\n",
              "    .dataframe thead th {\n",
              "        text-align: right;\n",
              "    }\n",
              "</style>\n",
              "<table border=\"1\" class=\"dataframe\">\n",
              "  <thead>\n",
              "    <tr style=\"text-align: right;\">\n",
              "      <th></th>\n",
              "      <th>Hour</th>\n",
              "      <th>Order</th>\n",
              "    </tr>\n",
              "  </thead>\n",
              "  <tbody>\n",
              "    <tr>\n",
              "      <th>0</th>\n",
              "      <td>12</td>\n",
              "      <td>77230</td>\n",
              "    </tr>\n",
              "    <tr>\n",
              "      <th>1</th>\n",
              "      <td>15</td>\n",
              "      <td>76432</td>\n",
              "    </tr>\n",
              "    <tr>\n",
              "      <th>2</th>\n",
              "      <td>13</td>\n",
              "      <td>71075</td>\n",
              "    </tr>\n",
              "    <tr>\n",
              "      <th>3</th>\n",
              "      <td>14</td>\n",
              "      <td>66266</td>\n",
              "    </tr>\n",
              "    <tr>\n",
              "      <th>4</th>\n",
              "      <td>11</td>\n",
              "      <td>56312</td>\n",
              "    </tr>\n",
              "    <tr>\n",
              "      <th>5</th>\n",
              "      <td>16</td>\n",
              "      <td>53451</td>\n",
              "    </tr>\n",
              "    <tr>\n",
              "      <th>6</th>\n",
              "      <td>10</td>\n",
              "      <td>47895</td>\n",
              "    </tr>\n",
              "    <tr>\n",
              "      <th>7</th>\n",
              "      <td>9</td>\n",
              "      <td>33755</td>\n",
              "    </tr>\n",
              "    <tr>\n",
              "      <th>8</th>\n",
              "      <td>17</td>\n",
              "      <td>27635</td>\n",
              "    </tr>\n",
              "    <tr>\n",
              "      <th>9</th>\n",
              "      <td>8</td>\n",
              "      <td>8805</td>\n",
              "    </tr>\n",
              "    <tr>\n",
              "      <th>10</th>\n",
              "      <td>18</td>\n",
              "      <td>7729</td>\n",
              "    </tr>\n",
              "    <tr>\n",
              "      <th>11</th>\n",
              "      <td>19</td>\n",
              "      <td>3516</td>\n",
              "    </tr>\n",
              "    <tr>\n",
              "      <th>12</th>\n",
              "      <td>20</td>\n",
              "      <td>802</td>\n",
              "    </tr>\n",
              "    <tr>\n",
              "      <th>13</th>\n",
              "      <td>7</td>\n",
              "      <td>379</td>\n",
              "    </tr>\n",
              "    <tr>\n",
              "      <th>14</th>\n",
              "      <td>6</td>\n",
              "      <td>1</td>\n",
              "    </tr>\n",
              "  </tbody>\n",
              "</table>\n",
              "</div>"
            ],
            "text/plain": [
              "   Hour  Order\n",
              "0    12  77230\n",
              "1    15  76432\n",
              "2    13  71075\n",
              "3    14  66266\n",
              "4    11  56312\n",
              "5    16  53451\n",
              "6    10  47895\n",
              "7     9  33755\n",
              "8    17  27635\n",
              "9     8   8805\n",
              "10   18   7729\n",
              "11   19   3516\n",
              "12   20    802\n",
              "13    7    379\n",
              "14    6      1"
            ]
          },
          "metadata": {
            "tags": []
          },
          "execution_count": 29
        }
      ]
    },
    {
      "cell_type": "markdown",
      "metadata": {
        "id": "dqCZUmx0KKfS",
        "colab_type": "text"
      },
      "source": [
        "**Make a plot about number of orders per hour**"
      ]
    },
    {
      "cell_type": "code",
      "metadata": {
        "id": "-KPgD51AKKE6",
        "colab_type": "code",
        "colab": {
          "base_uri": "https://localhost:8080/",
          "height": 291
        },
        "outputId": "caa4b833-28c9-4852-dcd7-5a35b80a0422"
      },
      "source": [
        "# Tạo lineplot\n",
        "sns.lineplot(x=df['Hour'],y=df['Order'],data=df)\n",
        "# Xuất bảng\n",
        "plt.show()"
      ],
      "execution_count": 39,
      "outputs": [
        {
          "output_type": "display_data",
          "data": {
            "image/png": "[encoded data removed]",
            "text/plain": [
              "<Figure size 432x288 with 1 Axes>"
            ]
          },
          "metadata": {
            "tags": []
          }
        }
      ]
    },
    {
      "cell_type": "markdown",
      "metadata": {
        "colab_type": "text",
        "id": "-8ZwTvS6L0vS"
      },
      "source": [
        "**How many orders (per month)?**"
      ]
    },
    {
      "cell_type": "code",
      "metadata": {
        "colab_type": "code",
        "id": "NeOp_6a3L0vX",
        "colab": {}
      },
      "source": [
        "# Hàm lấy ra tháng theo tham số a\n",
        "def take_month(a):\n",
        "  b = a.split(' ')\n",
        "  c=b[0].split('/')\n",
        "  return c[0]"
      ],
      "execution_count": 0,
      "outputs": []
    },
    {
      "cell_type": "code",
      "metadata": {
        "id": "ssopaEWNXlh-",
        "colab_type": "code",
        "colab": {
          "base_uri": "https://localhost:8080/",
          "height": 204
        },
        "outputId": "3e2a297d-068a-49bd-adf1-c8346fd21576"
      },
      "source": [
        "# Tạo một list Month trong đó đã Parse ra tháng theo cấu trúc của InvoiceDate\n",
        "Month = [take_month(i) for i in Online_Retail['InvoiceDate']]\n",
        "# Tạo một cột Month mới cho Dataframe\n",
        "Online_Retail['Month'] = Month\n",
        "# Kiểm tra\n",
        "Online_Retail.sample(5)"
      ],
      "execution_count": 47,
      "outputs": [
        {
          "output_type": "execute_result",
          "data": {
            "text/html": [
              "<div>\n",
              "<style scoped>\n",
              "    .dataframe tbody tr th:only-of-type {\n",
              "        vertical-align: middle;\n",
              "    }\n",
              "\n",
              "    .dataframe tbody tr th {\n",
              "        vertical-align: top;\n",
              "    }\n",
              "\n",
              "    .dataframe thead th {\n",
              "        text-align: right;\n",
              "    }\n",
              "</style>\n",
              "<table border=\"1\" class=\"dataframe\">\n",
              "  <thead>\n",
              "    <tr style=\"text-align: right;\">\n",
              "      <th></th>\n",
              "      <th>InvoiceNo</th>\n",
              "      <th>StockCode</th>\n",
              "      <th>Description</th>\n",
              "      <th>Quantity</th>\n",
              "      <th>InvoiceDate</th>\n",
              "      <th>UnitPrice</th>\n",
              "      <th>CustomerID</th>\n",
              "      <th>Country</th>\n",
              "      <th>Year</th>\n",
              "      <th>Total</th>\n",
              "      <th>Hour</th>\n",
              "      <th>Month</th>\n",
              "    </tr>\n",
              "  </thead>\n",
              "  <tbody>\n",
              "    <tr>\n",
              "      <th>239096</th>\n",
              "      <td>557974</td>\n",
              "      <td>22483</td>\n",
              "      <td>RED GINGHAM TEDDY BEAR</td>\n",
              "      <td>24</td>\n",
              "      <td>6/24/11 10:31</td>\n",
              "      <td>2.55</td>\n",
              "      <td>14541.0</td>\n",
              "      <td>United Kingdom</td>\n",
              "      <td>11</td>\n",
              "      <td>61.20</td>\n",
              "      <td>10</td>\n",
              "      <td>6</td>\n",
              "    </tr>\n",
              "    <tr>\n",
              "      <th>310637</th>\n",
              "      <td>564191</td>\n",
              "      <td>22961</td>\n",
              "      <td>JAM MAKING SET PRINTED</td>\n",
              "      <td>1</td>\n",
              "      <td>8/23/11 16:16</td>\n",
              "      <td>1.45</td>\n",
              "      <td>17315.0</td>\n",
              "      <td>United Kingdom</td>\n",
              "      <td>11</td>\n",
              "      <td>1.45</td>\n",
              "      <td>16</td>\n",
              "      <td>8</td>\n",
              "    </tr>\n",
              "    <tr>\n",
              "      <th>445096</th>\n",
              "      <td>574756</td>\n",
              "      <td>23301</td>\n",
              "      <td>GARDENERS KNEELING PAD KEEP CALM</td>\n",
              "      <td>12</td>\n",
              "      <td>11/7/11 9:40</td>\n",
              "      <td>1.65</td>\n",
              "      <td>13534.0</td>\n",
              "      <td>United Kingdom</td>\n",
              "      <td>11</td>\n",
              "      <td>19.80</td>\n",
              "      <td>9</td>\n",
              "      <td>11</td>\n",
              "    </tr>\n",
              "    <tr>\n",
              "      <th>133732</th>\n",
              "      <td>547793</td>\n",
              "      <td>22796</td>\n",
              "      <td>PHOTO FRAME 3 CLASSIC HANGING</td>\n",
              "      <td>4</td>\n",
              "      <td>3/25/11 12:10</td>\n",
              "      <td>9.95</td>\n",
              "      <td>14758.0</td>\n",
              "      <td>United Kingdom</td>\n",
              "      <td>11</td>\n",
              "      <td>39.80</td>\n",
              "      <td>12</td>\n",
              "      <td>3</td>\n",
              "    </tr>\n",
              "    <tr>\n",
              "      <th>371436</th>\n",
              "      <td>569220</td>\n",
              "      <td>20719</td>\n",
              "      <td>WOODLAND CHARLOTTE BAG</td>\n",
              "      <td>1</td>\n",
              "      <td>10/2/11 13:26</td>\n",
              "      <td>0.85</td>\n",
              "      <td>16007.0</td>\n",
              "      <td>United Kingdom</td>\n",
              "      <td>11</td>\n",
              "      <td>0.85</td>\n",
              "      <td>13</td>\n",
              "      <td>10</td>\n",
              "    </tr>\n",
              "  </tbody>\n",
              "</table>\n",
              "</div>"
            ],
            "text/plain": [
              "       InvoiceNo StockCode                        Description  ...  Total Hour  Month\n",
              "239096    557974     22483            RED GINGHAM TEDDY BEAR   ...  61.20   10      6\n",
              "310637    564191     22961             JAM MAKING SET PRINTED  ...   1.45   16      8\n",
              "445096    574756     23301  GARDENERS KNEELING PAD KEEP CALM   ...  19.80    9     11\n",
              "133732    547793     22796      PHOTO FRAME 3 CLASSIC HANGING  ...  39.80   12      3\n",
              "371436    569220     20719             WOODLAND CHARLOTTE BAG  ...   0.85   13     10\n",
              "\n",
              "[5 rows x 12 columns]"
            ]
          },
          "metadata": {
            "tags": []
          },
          "execution_count": 47
        }
      ]
    },
    {
      "cell_type": "code",
      "metadata": {
        "id": "ncgiUdjKXz2r",
        "colab_type": "code",
        "colab": {
          "base_uri": "https://localhost:8080/",
          "height": 51
        },
        "outputId": "749b5c13-bc6a-4ffc-9178-d8a6f726dea8"
      },
      "source": [
        "# Đếm số lượng Month, số lượng Month chính là số lượng đơn hàng\n",
        "temp_Month = Online_Retail['Month'].value_counts()\n",
        "# Phân tử đầu tiên là phần tử xuất hiện nhiều nhất => Thời gian có nhiều đơn hàng nhất\n",
        "temp_Month.head(1)"
      ],
      "execution_count": 44,
      "outputs": [
        {
          "output_type": "execute_result",
          "data": {
            "text/plain": [
              "11    83498\n",
              "Name: Month, dtype: int64"
            ]
          },
          "metadata": {
            "tags": []
          },
          "execution_count": 44
        }
      ]
    },
    {
      "cell_type": "code",
      "metadata": {
        "id": "Cfc-UcOXX-hb",
        "colab_type": "code",
        "colab": {
          "base_uri": "https://localhost:8080/",
          "height": 421
        },
        "outputId": "643cd9f6-85b8-4974-e046-d66633321a3d"
      },
      "source": [
        "# Đặt tên Series\n",
        "temp_1 = pd.Series(temp_Month, name=\"Order per Month\")\n",
        "# Label cho Series\n",
        "df_1 = pd.DataFrame({'Month':temp_Month.index, 'Order':temp_Month.values})\n",
        "# Xuất bảng\n",
        "df_1"
      ],
      "execution_count": 50,
      "outputs": [
        {
          "output_type": "execute_result",
          "data": {
            "text/html": [
              "<div>\n",
              "<style scoped>\n",
              "    .dataframe tbody tr th:only-of-type {\n",
              "        vertical-align: middle;\n",
              "    }\n",
              "\n",
              "    .dataframe tbody tr th {\n",
              "        vertical-align: top;\n",
              "    }\n",
              "\n",
              "    .dataframe thead th {\n",
              "        text-align: right;\n",
              "    }\n",
              "</style>\n",
              "<table border=\"1\" class=\"dataframe\">\n",
              "  <thead>\n",
              "    <tr style=\"text-align: right;\">\n",
              "      <th></th>\n",
              "      <th>Month</th>\n",
              "      <th>Order</th>\n",
              "    </tr>\n",
              "  </thead>\n",
              "  <tbody>\n",
              "    <tr>\n",
              "      <th>0</th>\n",
              "      <td>11</td>\n",
              "      <td>83498</td>\n",
              "    </tr>\n",
              "    <tr>\n",
              "      <th>1</th>\n",
              "      <td>12</td>\n",
              "      <td>66818</td>\n",
              "    </tr>\n",
              "    <tr>\n",
              "      <th>2</th>\n",
              "      <td>10</td>\n",
              "      <td>59396</td>\n",
              "    </tr>\n",
              "    <tr>\n",
              "      <th>3</th>\n",
              "      <td>9</td>\n",
              "      <td>49323</td>\n",
              "    </tr>\n",
              "    <tr>\n",
              "      <th>4</th>\n",
              "      <td>7</td>\n",
              "      <td>38716</td>\n",
              "    </tr>\n",
              "    <tr>\n",
              "      <th>5</th>\n",
              "      <td>5</td>\n",
              "      <td>36292</td>\n",
              "    </tr>\n",
              "    <tr>\n",
              "      <th>6</th>\n",
              "      <td>6</td>\n",
              "      <td>36056</td>\n",
              "    </tr>\n",
              "    <tr>\n",
              "      <th>7</th>\n",
              "      <td>3</td>\n",
              "      <td>35915</td>\n",
              "    </tr>\n",
              "    <tr>\n",
              "      <th>8</th>\n",
              "      <td>8</td>\n",
              "      <td>34564</td>\n",
              "    </tr>\n",
              "    <tr>\n",
              "      <th>9</th>\n",
              "      <td>1</td>\n",
              "      <td>34350</td>\n",
              "    </tr>\n",
              "    <tr>\n",
              "      <th>10</th>\n",
              "      <td>4</td>\n",
              "      <td>29171</td>\n",
              "    </tr>\n",
              "    <tr>\n",
              "      <th>11</th>\n",
              "      <td>2</td>\n",
              "      <td>27184</td>\n",
              "    </tr>\n",
              "  </tbody>\n",
              "</table>\n",
              "</div>"
            ],
            "text/plain": [
              "   Month  Order\n",
              "0     11  83498\n",
              "1     12  66818\n",
              "2     10  59396\n",
              "3      9  49323\n",
              "4      7  38716\n",
              "5      5  36292\n",
              "6      6  36056\n",
              "7      3  35915\n",
              "8      8  34564\n",
              "9      1  34350\n",
              "10     4  29171\n",
              "11     2  27184"
            ]
          },
          "metadata": {
            "tags": []
          },
          "execution_count": 50
        }
      ]
    },
    {
      "cell_type": "markdown",
      "metadata": {
        "colab_type": "text",
        "id": "sOYrMUczL0vb"
      },
      "source": [
        "**Make a plot about number of orders per month**"
      ]
    },
    {
      "cell_type": "code",
      "metadata": {
        "id": "dZ3bXqWQYhXl",
        "colab_type": "code",
        "colab": {
          "base_uri": "https://localhost:8080/",
          "height": 291
        },
        "outputId": "44aae6f6-5278-4e23-c7e9-40b5dff59700"
      },
      "source": [
        "# Tạo lineplot\n",
        "sns.lineplot(x=df_1['Month'],y=df_1['Order'],data=df_1)\n",
        "# Xuất bảng\n",
        "plt.show()"
      ],
      "execution_count": 51,
      "outputs": [
        {
          "output_type": "display_data",
          "data": {
            "image/png": "[encoded data removed]",
            "text/plain": [
              "<Figure size 432x288 with 1 Axes>"
            ]
          },
          "metadata": {
            "tags": []
          }
        }
      ]
    },
    {
      "cell_type": "markdown",
      "metadata": {
        "id": "E3eeyQeBLd6e",
        "colab_type": "text"
      },
      "source": [
        "**Top 10 items most sales**"
      ]
    },
    {
      "cell_type": "code",
      "metadata": {
        "id": "4trjB9ZjLhEv",
        "colab_type": "code",
        "colab": {
          "base_uri": "https://localhost:8080/",
          "height": 204
        },
        "outputId": "88e6d0b8-468e-4533-aabb-724e614606e5"
      },
      "source": [
        "# Tạo ra danh sách Item và sắp xếp thứ tự giảm dần\n",
        "Top_Item = Online_Retail['Description'].value_counts(sort=True)\n",
        "# Lấy ra 10 Item đầu tiên\n",
        "Top_Item.head(10)"
      ],
      "execution_count": 55,
      "outputs": [
        {
          "output_type": "execute_result",
          "data": {
            "text/plain": [
              "WHITE HANGING HEART T-LIGHT HOLDER    2327\n",
              "JUMBO BAG RED RETROSPOT               2115\n",
              "REGENCY CAKESTAND 3 TIER              2019\n",
              "PARTY BUNTING                         1707\n",
              "LUNCH BAG RED RETROSPOT               1594\n",
              "ASSORTED COLOUR BIRD ORNAMENT         1489\n",
              "SET OF 3 CAKE TINS PANTRY DESIGN      1399\n",
              "PACK OF 72 RETROSPOT CAKE CASES       1370\n",
              "LUNCH BAG  BLACK SKULL.               1328\n",
              "NATURAL SLATE HEART CHALKBOARD        1263\n",
              "Name: Description, dtype: int64"
            ]
          },
          "metadata": {
            "tags": []
          },
          "execution_count": 55
        }
      ]
    },
    {
      "cell_type": "markdown",
      "metadata": {
        "id": "-dEBLw1uPm1-",
        "colab_type": "text"
      },
      "source": [
        "**Create a histogram with the 10 countries that have the most 'Quantity' ordered except UK**"
      ]
    },
    {
      "cell_type": "code",
      "metadata": {
        "id": "_N-UF331Pm1-",
        "colab_type": "code",
        "colab": {
          "base_uri": "https://localhost:8080/",
          "height": 204
        },
        "outputId": "3fac292c-bff1-436f-9d93-adfd6c2068f3"
      },
      "source": [
        "# Tạo Dataframe của các nước khác UK\n",
        "Except_UK = Online_Retail[Online_Retail['Country']!='United Kingdom']\n",
        "# Kiểm tra\n",
        "Except_UK.sample(5)"
      ],
      "execution_count": 56,
      "outputs": [
        {
          "output_type": "execute_result",
          "data": {
            "text/html": [
              "<div>\n",
              "<style scoped>\n",
              "    .dataframe tbody tr th:only-of-type {\n",
              "        vertical-align: middle;\n",
              "    }\n",
              "\n",
              "    .dataframe tbody tr th {\n",
              "        vertical-align: top;\n",
              "    }\n",
              "\n",
              "    .dataframe thead th {\n",
              "        text-align: right;\n",
              "    }\n",
              "</style>\n",
              "<table border=\"1\" class=\"dataframe\">\n",
              "  <thead>\n",
              "    <tr style=\"text-align: right;\">\n",
              "      <th></th>\n",
              "      <th>InvoiceNo</th>\n",
              "      <th>StockCode</th>\n",
              "      <th>Description</th>\n",
              "      <th>Quantity</th>\n",
              "      <th>InvoiceDate</th>\n",
              "      <th>UnitPrice</th>\n",
              "      <th>CustomerID</th>\n",
              "      <th>Country</th>\n",
              "      <th>Year</th>\n",
              "      <th>Total</th>\n",
              "      <th>Hour</th>\n",
              "      <th>Month</th>\n",
              "    </tr>\n",
              "  </thead>\n",
              "  <tbody>\n",
              "    <tr>\n",
              "      <th>488934</th>\n",
              "      <td>577856</td>\n",
              "      <td>23445</td>\n",
              "      <td>ICE CREAM BUBBLES</td>\n",
              "      <td>20</td>\n",
              "      <td>11/22/11 11:19</td>\n",
              "      <td>0.83</td>\n",
              "      <td>12490.0</td>\n",
              "      <td>France</td>\n",
              "      <td>11</td>\n",
              "      <td>16.60</td>\n",
              "      <td>11</td>\n",
              "      <td>11</td>\n",
              "    </tr>\n",
              "    <tr>\n",
              "      <th>531776</th>\n",
              "      <td>580965</td>\n",
              "      <td>22915</td>\n",
              "      <td>ASSORTED BOTTLE TOP  MAGNETS</td>\n",
              "      <td>12</td>\n",
              "      <td>12/6/11 14:52</td>\n",
              "      <td>0.42</td>\n",
              "      <td>12417.0</td>\n",
              "      <td>Belgium</td>\n",
              "      <td>11</td>\n",
              "      <td>5.04</td>\n",
              "      <td>14</td>\n",
              "      <td>12</td>\n",
              "    </tr>\n",
              "    <tr>\n",
              "      <th>63101</th>\n",
              "      <td>541520</td>\n",
              "      <td>20713</td>\n",
              "      <td>JUMBO BAG OWLS</td>\n",
              "      <td>10</td>\n",
              "      <td>1/19/11 9:13</td>\n",
              "      <td>1.95</td>\n",
              "      <td>12422.0</td>\n",
              "      <td>Australia</td>\n",
              "      <td>11</td>\n",
              "      <td>19.50</td>\n",
              "      <td>9</td>\n",
              "      <td>1</td>\n",
              "    </tr>\n",
              "    <tr>\n",
              "      <th>459839</th>\n",
              "      <td>575884</td>\n",
              "      <td>23058</td>\n",
              "      <td>CHRISTMAS HANGING SNOWFLAKE</td>\n",
              "      <td>12</td>\n",
              "      <td>11/11/11 13:46</td>\n",
              "      <td>0.79</td>\n",
              "      <td>12685.0</td>\n",
              "      <td>France</td>\n",
              "      <td>11</td>\n",
              "      <td>9.48</td>\n",
              "      <td>13</td>\n",
              "      <td>11</td>\n",
              "    </tr>\n",
              "    <tr>\n",
              "      <th>181315</th>\n",
              "      <td>552464</td>\n",
              "      <td>21122</td>\n",
              "      <td>SET/10 PINK POLKADOT PARTY CANDLES</td>\n",
              "      <td>24</td>\n",
              "      <td>5/9/11 15:12</td>\n",
              "      <td>1.25</td>\n",
              "      <td>12726.0</td>\n",
              "      <td>France</td>\n",
              "      <td>11</td>\n",
              "      <td>30.00</td>\n",
              "      <td>15</td>\n",
              "      <td>5</td>\n",
              "    </tr>\n",
              "  </tbody>\n",
              "</table>\n",
              "</div>"
            ],
            "text/plain": [
              "       InvoiceNo StockCode  ... Hour  Month\n",
              "488934    577856     23445  ...   11     11\n",
              "531776    580965     22915  ...   14     12\n",
              "63101     541520     20713  ...    9      1\n",
              "459839    575884     23058  ...   13     11\n",
              "181315    552464     21122  ...   15      5\n",
              "\n",
              "[5 rows x 12 columns]"
            ]
          },
          "metadata": {
            "tags": []
          },
          "execution_count": 56
        }
      ]
    },
    {
      "cell_type": "code",
      "metadata": {
        "id": "oI07gMzNcE3G",
        "colab_type": "code",
        "colab": {
          "base_uri": "https://localhost:8080/",
          "height": 204
        },
        "outputId": "523f22d6-c2ce-46b3-e3ae-067712b1dea6"
      },
      "source": [
        "# Tạo Dataframe gồm Country và Quantity\n",
        "temp = Except_UK[['Country','Quantity']]\n",
        "# Kiểm tra\n",
        "temp.sample(5)"
      ],
      "execution_count": 80,
      "outputs": [
        {
          "output_type": "execute_result",
          "data": {
            "text/html": [
              "<div>\n",
              "<style scoped>\n",
              "    .dataframe tbody tr th:only-of-type {\n",
              "        vertical-align: middle;\n",
              "    }\n",
              "\n",
              "    .dataframe tbody tr th {\n",
              "        vertical-align: top;\n",
              "    }\n",
              "\n",
              "    .dataframe thead th {\n",
              "        text-align: right;\n",
              "    }\n",
              "</style>\n",
              "<table border=\"1\" class=\"dataframe\">\n",
              "  <thead>\n",
              "    <tr style=\"text-align: right;\">\n",
              "      <th></th>\n",
              "      <th>Country</th>\n",
              "      <th>Quantity</th>\n",
              "    </tr>\n",
              "  </thead>\n",
              "  <tbody>\n",
              "    <tr>\n",
              "      <th>418006</th>\n",
              "      <td>Portugal</td>\n",
              "      <td>2</td>\n",
              "    </tr>\n",
              "    <tr>\n",
              "      <th>186069</th>\n",
              "      <td>Germany</td>\n",
              "      <td>18</td>\n",
              "    </tr>\n",
              "    <tr>\n",
              "      <th>116305</th>\n",
              "      <td>Cyprus</td>\n",
              "      <td>12</td>\n",
              "    </tr>\n",
              "    <tr>\n",
              "      <th>180548</th>\n",
              "      <td>France</td>\n",
              "      <td>20</td>\n",
              "    </tr>\n",
              "    <tr>\n",
              "      <th>518830</th>\n",
              "      <td>France</td>\n",
              "      <td>8</td>\n",
              "    </tr>\n",
              "  </tbody>\n",
              "</table>\n",
              "</div>"
            ],
            "text/plain": [
              "         Country  Quantity\n",
              "418006  Portugal         2\n",
              "186069   Germany        18\n",
              "116305    Cyprus        12\n",
              "180548    France        20\n",
              "518830    France         8"
            ]
          },
          "metadata": {
            "tags": []
          },
          "execution_count": 80
        }
      ]
    },
    {
      "cell_type": "code",
      "metadata": {
        "id": "PZhveIkadYGJ",
        "colab_type": "code",
        "colab": {
          "base_uri": "https://localhost:8080/",
          "height": 204
        },
        "outputId": "dc178e94-97ce-4856-f4d8-b2c945ff8e01"
      },
      "source": [
        "# Gộp Quantity theo Country sắp xếp theo thứ tự giảm dần\n",
        "Sorted = temp['Country'].value_counts()\n",
        "# 10 Country đầu tiên sẽ có Quantity cao nhất\n",
        "Sorted.head(10)"
      ],
      "execution_count": 81,
      "outputs": [
        {
          "output_type": "execute_result",
          "data": {
            "text/plain": [
              "Germany        9042\n",
              "France         8408\n",
              "EIRE           7894\n",
              "Spain          2485\n",
              "Netherlands    2363\n",
              "Belgium        2031\n",
              "Switzerland    1967\n",
              "Portugal       1501\n",
              "Australia      1185\n",
              "Norway         1072\n",
              "Name: Country, dtype: int64"
            ]
          },
          "metadata": {
            "tags": []
          },
          "execution_count": 81
        }
      ]
    },
    {
      "cell_type": "code",
      "metadata": {
        "id": "DA5W1dFFepwC",
        "colab_type": "code",
        "colab": {
          "base_uri": "https://localhost:8080/",
          "height": 274
        },
        "outputId": "631dce85-2a73-425e-f96b-dea40b879813"
      },
      "source": [
        "# Vẽ histogram\n",
        "plt.hist(Sorted.values, facecolor='blue', alpha=0.5)\n",
        "# Show bảng\n",
        "plt.show()"
      ],
      "execution_count": 85,
      "outputs": [
        {
          "output_type": "display_data",
          "data": {
            "image/png": "[encoded data removed]",
            "text/plain": [
              "<Figure size 432x288 with 1 Axes>"
            ]
          },
          "metadata": {
            "tags": []
          }
        }
      ]
    },
    {
      "cell_type": "markdown",
      "metadata": {
        "id": "MoBgPjDiwhdV",
        "colab_type": "text"
      },
      "source": [
        "### You are awesome!!"
      ]
    }
  ]
}